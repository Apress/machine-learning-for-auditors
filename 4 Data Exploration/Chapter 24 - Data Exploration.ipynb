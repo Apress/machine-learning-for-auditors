{
 "cells": [
  {
   "cell_type": "code",
   "execution_count": 46,
   "metadata": {},
   "outputs": [],
   "source": [
    "# Import Required Libraries\n",
    "import pandas as pd\n",
    "import numpy as np\n",
    "import seaborn as sns \n",
    "import matplotlib.pyplot as plt\n",
    "%matplotlib inline     \n",
    "sns.set(color_codes=True)"
   ]
  },
  {
   "cell_type": "markdown",
   "metadata": {},
   "source": [
    "<h2>Step 1: Data Preparation</h2>"
   ]
  },
  {
   "cell_type": "code",
   "execution_count": 47,
   "metadata": {},
   "outputs": [
    {
     "data": {
      "text/plain": [
       "(108469, 7)"
      ]
     },
     "execution_count": 47,
     "metadata": {},
     "output_type": "execute_result"
    }
   ],
   "source": [
    "# Read and load the data into a Pandas data frame and output its size\n",
    "df = pd.read_csv(\"covid19dataexport.csv\", low_memory=False)\n",
    "df.shape"
   ]
  },
  {
   "cell_type": "code",
   "execution_count": 48,
   "metadata": {},
   "outputs": [
    {
     "data": {
      "text/html": [
       "<div>\n",
       "<style scoped>\n",
       "    .dataframe tbody tr th:only-of-type {\n",
       "        vertical-align: middle;\n",
       "    }\n",
       "\n",
       "    .dataframe tbody tr th {\n",
       "        vertical-align: top;\n",
       "    }\n",
       "\n",
       "    .dataframe thead th {\n",
       "        text-align: right;\n",
       "    }\n",
       "</style>\n",
       "<table border=\"1\" class=\"dataframe\">\n",
       "  <thead>\n",
       "    <tr style=\"text-align: right;\">\n",
       "      <th></th>\n",
       "      <th>Unnamed: 0</th>\n",
       "      <th>Date reported</th>\n",
       "      <th>Alberta Health Services Zone</th>\n",
       "      <th>Gender</th>\n",
       "      <th>Age group</th>\n",
       "      <th>Case status</th>\n",
       "      <th>Case type</th>\n",
       "    </tr>\n",
       "  </thead>\n",
       "  <tbody>\n",
       "    <tr>\n",
       "      <th>0</th>\n",
       "      <td>1</td>\n",
       "      <td>2020-10-13</td>\n",
       "      <td>Edmonton Zone</td>\n",
       "      <td>Male</td>\n",
       "      <td>40-49 years</td>\n",
       "      <td>Recovered</td>\n",
       "      <td>Confirmed</td>\n",
       "    </tr>\n",
       "    <tr>\n",
       "      <th>1</th>\n",
       "      <td>2</td>\n",
       "      <td>2020-11-08</td>\n",
       "      <td>Calgary Zone</td>\n",
       "      <td>Male</td>\n",
       "      <td>10-19 years</td>\n",
       "      <td>Recovered</td>\n",
       "      <td>Confirmed</td>\n",
       "    </tr>\n",
       "    <tr>\n",
       "      <th>2</th>\n",
       "      <td>3</td>\n",
       "      <td>2020-10-13</td>\n",
       "      <td>South Zone</td>\n",
       "      <td>Male</td>\n",
       "      <td>5-9 years</td>\n",
       "      <td>Recovered</td>\n",
       "      <td>Confirmed</td>\n",
       "    </tr>\n",
       "    <tr>\n",
       "      <th>3</th>\n",
       "      <td>4</td>\n",
       "      <td>2020-11-25</td>\n",
       "      <td>Calgary Zone</td>\n",
       "      <td>Female</td>\n",
       "      <td>80+ years</td>\n",
       "      <td>Recovered</td>\n",
       "      <td>Confirmed</td>\n",
       "    </tr>\n",
       "    <tr>\n",
       "      <th>4</th>\n",
       "      <td>5</td>\n",
       "      <td>2020-11-26</td>\n",
       "      <td>Central Zone</td>\n",
       "      <td>Female</td>\n",
       "      <td>80+ years</td>\n",
       "      <td>Recovered</td>\n",
       "      <td>Confirmed</td>\n",
       "    </tr>\n",
       "  </tbody>\n",
       "</table>\n",
       "</div>"
      ],
      "text/plain": [
       "   Unnamed: 0 Date reported Alberta Health Services Zone  Gender    Age group  \\\n",
       "0           1    2020-10-13                Edmonton Zone    Male  40-49 years   \n",
       "1           2    2020-11-08                 Calgary Zone    Male  10-19 years   \n",
       "2           3    2020-10-13                   South Zone    Male    5-9 years   \n",
       "3           4    2020-11-25                 Calgary Zone  Female    80+ years   \n",
       "4           5    2020-11-26                 Central Zone  Female    80+ years   \n",
       "\n",
       "  Case status  Case type  \n",
       "0   Recovered  Confirmed  \n",
       "1   Recovered  Confirmed  \n",
       "2   Recovered  Confirmed  \n",
       "3   Recovered  Confirmed  \n",
       "4   Recovered  Confirmed  "
      ]
     },
     "execution_count": 48,
     "metadata": {},
     "output_type": "execute_result"
    }
   ],
   "source": [
    "# Output the first 5 rows\n",
    "df.head()"
   ]
  },
  {
   "cell_type": "code",
   "execution_count": 49,
   "metadata": {},
   "outputs": [
    {
     "data": {
      "text/html": [
       "<div>\n",
       "<style scoped>\n",
       "    .dataframe tbody tr th:only-of-type {\n",
       "        vertical-align: middle;\n",
       "    }\n",
       "\n",
       "    .dataframe tbody tr th {\n",
       "        vertical-align: top;\n",
       "    }\n",
       "\n",
       "    .dataframe thead th {\n",
       "        text-align: right;\n",
       "    }\n",
       "</style>\n",
       "<table border=\"1\" class=\"dataframe\">\n",
       "  <thead>\n",
       "    <tr style=\"text-align: right;\">\n",
       "      <th></th>\n",
       "      <th>Unnamed: 0</th>\n",
       "      <th>Date reported</th>\n",
       "      <th>Alberta Health Services Zone</th>\n",
       "      <th>Gender</th>\n",
       "      <th>Age group</th>\n",
       "      <th>Case status</th>\n",
       "      <th>Case type</th>\n",
       "    </tr>\n",
       "  </thead>\n",
       "  <tbody>\n",
       "    <tr>\n",
       "      <th>108464</th>\n",
       "      <td>108465</td>\n",
       "      <td>2020-12-17</td>\n",
       "      <td>North Zone</td>\n",
       "      <td>Male</td>\n",
       "      <td>1-4 years</td>\n",
       "      <td>Recovered</td>\n",
       "      <td>Confirmed</td>\n",
       "    </tr>\n",
       "    <tr>\n",
       "      <th>108465</th>\n",
       "      <td>108466</td>\n",
       "      <td>2020-12-28</td>\n",
       "      <td>Calgary Zone</td>\n",
       "      <td>Female</td>\n",
       "      <td>30-39 years</td>\n",
       "      <td>Active</td>\n",
       "      <td>Confirmed</td>\n",
       "    </tr>\n",
       "    <tr>\n",
       "      <th>108466</th>\n",
       "      <td>108467</td>\n",
       "      <td>2020-12-28</td>\n",
       "      <td>Edmonton Zone</td>\n",
       "      <td>Female</td>\n",
       "      <td>50-59 years</td>\n",
       "      <td>Active</td>\n",
       "      <td>Confirmed</td>\n",
       "    </tr>\n",
       "    <tr>\n",
       "      <th>108467</th>\n",
       "      <td>108468</td>\n",
       "      <td>2020-12-05</td>\n",
       "      <td>Central Zone</td>\n",
       "      <td>Male</td>\n",
       "      <td>30-39 years</td>\n",
       "      <td>Recovered</td>\n",
       "      <td>Confirmed</td>\n",
       "    </tr>\n",
       "    <tr>\n",
       "      <th>108468</th>\n",
       "      <td>108469</td>\n",
       "      <td>2020-11-21</td>\n",
       "      <td>Calgary Zone</td>\n",
       "      <td>Female</td>\n",
       "      <td>10-19 years</td>\n",
       "      <td>Recovered</td>\n",
       "      <td>Confirmed</td>\n",
       "    </tr>\n",
       "  </tbody>\n",
       "</table>\n",
       "</div>"
      ],
      "text/plain": [
       "        Unnamed: 0 Date reported Alberta Health Services Zone  Gender  \\\n",
       "108464      108465    2020-12-17                   North Zone    Male   \n",
       "108465      108466    2020-12-28                 Calgary Zone  Female   \n",
       "108466      108467    2020-12-28                Edmonton Zone  Female   \n",
       "108467      108468    2020-12-05                 Central Zone    Male   \n",
       "108468      108469    2020-11-21                 Calgary Zone  Female   \n",
       "\n",
       "          Age group Case status  Case type  \n",
       "108464    1-4 years   Recovered  Confirmed  \n",
       "108465  30-39 years      Active  Confirmed  \n",
       "108466  50-59 years      Active  Confirmed  \n",
       "108467  30-39 years   Recovered  Confirmed  \n",
       "108468  10-19 years   Recovered  Confirmed  "
      ]
     },
     "execution_count": 49,
     "metadata": {},
     "output_type": "execute_result"
    }
   ],
   "source": [
    "# Show the last 5 rows\n",
    "df.tail()"
   ]
  },
  {
   "cell_type": "markdown",
   "metadata": {},
   "source": [
    "<h2>Step 2: Exploratory Data Analysis</h2>"
   ]
  },
  {
   "cell_type": "code",
   "execution_count": 50,
   "metadata": {},
   "outputs": [
    {
     "data": {
      "text/plain": [
       "'2020-03-06'"
      ]
     },
     "execution_count": 50,
     "metadata": {},
     "output_type": "execute_result"
    }
   ],
   "source": [
    "# Get the earliest date\n",
    "min(df['Date reported'])"
   ]
  },
  {
   "cell_type": "code",
   "execution_count": 51,
   "metadata": {},
   "outputs": [
    {
     "data": {
      "text/plain": [
       "'2021-01-06'"
      ]
     },
     "execution_count": 51,
     "metadata": {},
     "output_type": "execute_result"
    }
   ],
   "source": [
    "# Get the latest date\n",
    "max(df['Date reported'])"
   ]
  },
  {
   "cell_type": "code",
   "execution_count": 52,
   "metadata": {},
   "outputs": [
    {
     "data": {
      "text/plain": [
       "1849"
      ]
     },
     "execution_count": 52,
     "metadata": {},
     "output_type": "execute_result"
    }
   ],
   "source": [
    "# Total confirmed cases\n",
    "sum(df['Case type'] != \"Confirmed\")"
   ]
  },
  {
   "cell_type": "code",
   "execution_count": 53,
   "metadata": {},
   "outputs": [
    {
     "data": {
      "text/html": [
       "<div>\n",
       "<style scoped>\n",
       "    .dataframe tbody tr th:only-of-type {\n",
       "        vertical-align: middle;\n",
       "    }\n",
       "\n",
       "    .dataframe tbody tr th {\n",
       "        vertical-align: top;\n",
       "    }\n",
       "\n",
       "    .dataframe thead th {\n",
       "        text-align: right;\n",
       "    }\n",
       "</style>\n",
       "<table border=\"1\" class=\"dataframe\">\n",
       "  <thead>\n",
       "    <tr style=\"text-align: right;\">\n",
       "      <th></th>\n",
       "      <th>Unnamed: 0</th>\n",
       "      <th>Date reported</th>\n",
       "      <th>Alberta Health Services Zone</th>\n",
       "      <th>Gender</th>\n",
       "      <th>Age group</th>\n",
       "      <th>Case status</th>\n",
       "      <th>Case type</th>\n",
       "    </tr>\n",
       "  </thead>\n",
       "  <tbody>\n",
       "    <tr>\n",
       "      <th>count</th>\n",
       "      <td>108469.000000</td>\n",
       "      <td>108469</td>\n",
       "      <td>108469</td>\n",
       "      <td>108469</td>\n",
       "      <td>108469</td>\n",
       "      <td>108469</td>\n",
       "      <td>108469</td>\n",
       "    </tr>\n",
       "    <tr>\n",
       "      <th>unique</th>\n",
       "      <td>NaN</td>\n",
       "      <td>305</td>\n",
       "      <td>6</td>\n",
       "      <td>3</td>\n",
       "      <td>12</td>\n",
       "      <td>3</td>\n",
       "      <td>2</td>\n",
       "    </tr>\n",
       "    <tr>\n",
       "      <th>top</th>\n",
       "      <td>NaN</td>\n",
       "      <td>2020-12-04</td>\n",
       "      <td>Edmonton Zone</td>\n",
       "      <td>Male</td>\n",
       "      <td>30-39 years</td>\n",
       "      <td>Recovered</td>\n",
       "      <td>Confirmed</td>\n",
       "    </tr>\n",
       "    <tr>\n",
       "      <th>freq</th>\n",
       "      <td>NaN</td>\n",
       "      <td>1876</td>\n",
       "      <td>46386</td>\n",
       "      <td>54241</td>\n",
       "      <td>20750</td>\n",
       "      <td>93954</td>\n",
       "      <td>106620</td>\n",
       "    </tr>\n",
       "    <tr>\n",
       "      <th>mean</th>\n",
       "      <td>54235.000000</td>\n",
       "      <td>NaN</td>\n",
       "      <td>NaN</td>\n",
       "      <td>NaN</td>\n",
       "      <td>NaN</td>\n",
       "      <td>NaN</td>\n",
       "      <td>NaN</td>\n",
       "    </tr>\n",
       "    <tr>\n",
       "      <th>std</th>\n",
       "      <td>31312.447512</td>\n",
       "      <td>NaN</td>\n",
       "      <td>NaN</td>\n",
       "      <td>NaN</td>\n",
       "      <td>NaN</td>\n",
       "      <td>NaN</td>\n",
       "      <td>NaN</td>\n",
       "    </tr>\n",
       "    <tr>\n",
       "      <th>min</th>\n",
       "      <td>1.000000</td>\n",
       "      <td>NaN</td>\n",
       "      <td>NaN</td>\n",
       "      <td>NaN</td>\n",
       "      <td>NaN</td>\n",
       "      <td>NaN</td>\n",
       "      <td>NaN</td>\n",
       "    </tr>\n",
       "    <tr>\n",
       "      <th>25%</th>\n",
       "      <td>27118.000000</td>\n",
       "      <td>NaN</td>\n",
       "      <td>NaN</td>\n",
       "      <td>NaN</td>\n",
       "      <td>NaN</td>\n",
       "      <td>NaN</td>\n",
       "      <td>NaN</td>\n",
       "    </tr>\n",
       "    <tr>\n",
       "      <th>50%</th>\n",
       "      <td>54235.000000</td>\n",
       "      <td>NaN</td>\n",
       "      <td>NaN</td>\n",
       "      <td>NaN</td>\n",
       "      <td>NaN</td>\n",
       "      <td>NaN</td>\n",
       "      <td>NaN</td>\n",
       "    </tr>\n",
       "    <tr>\n",
       "      <th>75%</th>\n",
       "      <td>81352.000000</td>\n",
       "      <td>NaN</td>\n",
       "      <td>NaN</td>\n",
       "      <td>NaN</td>\n",
       "      <td>NaN</td>\n",
       "      <td>NaN</td>\n",
       "      <td>NaN</td>\n",
       "    </tr>\n",
       "    <tr>\n",
       "      <th>max</th>\n",
       "      <td>108469.000000</td>\n",
       "      <td>NaN</td>\n",
       "      <td>NaN</td>\n",
       "      <td>NaN</td>\n",
       "      <td>NaN</td>\n",
       "      <td>NaN</td>\n",
       "      <td>NaN</td>\n",
       "    </tr>\n",
       "  </tbody>\n",
       "</table>\n",
       "</div>"
      ],
      "text/plain": [
       "           Unnamed: 0 Date reported Alberta Health Services Zone  Gender  \\\n",
       "count   108469.000000        108469                       108469  108469   \n",
       "unique            NaN           305                            6       3   \n",
       "top               NaN    2020-12-04                Edmonton Zone    Male   \n",
       "freq              NaN          1876                        46386   54241   \n",
       "mean     54235.000000           NaN                          NaN     NaN   \n",
       "std      31312.447512           NaN                          NaN     NaN   \n",
       "min          1.000000           NaN                          NaN     NaN   \n",
       "25%      27118.000000           NaN                          NaN     NaN   \n",
       "50%      54235.000000           NaN                          NaN     NaN   \n",
       "75%      81352.000000           NaN                          NaN     NaN   \n",
       "max     108469.000000           NaN                          NaN     NaN   \n",
       "\n",
       "          Age group Case status  Case type  \n",
       "count        108469      108469     108469  \n",
       "unique           12           3          2  \n",
       "top     30-39 years   Recovered  Confirmed  \n",
       "freq          20750       93954     106620  \n",
       "mean            NaN         NaN        NaN  \n",
       "std             NaN         NaN        NaN  \n",
       "min             NaN         NaN        NaN  \n",
       "25%             NaN         NaN        NaN  \n",
       "50%             NaN         NaN        NaN  \n",
       "75%             NaN         NaN        NaN  \n",
       "max             NaN         NaN        NaN  "
      ]
     },
     "execution_count": 53,
     "metadata": {},
     "output_type": "execute_result"
    }
   ],
   "source": [
    "# Display summary statistics\n",
    "df.describe(include='all')"
   ]
  },
  {
   "cell_type": "code",
   "execution_count": 54,
   "metadata": {},
   "outputs": [
    {
     "data": {
      "text/plain": [
       "Unnamed: 0                       int64\n",
       "Date reported                   object\n",
       "Alberta Health Services Zone    object\n",
       "Gender                          object\n",
       "Age group                       object\n",
       "Case status                     object\n",
       "Case type                       object\n",
       "dtype: object"
      ]
     },
     "execution_count": 54,
     "metadata": {},
     "output_type": "execute_result"
    }
   ],
   "source": [
    "# Show column data types\n",
    "df.dtypes"
   ]
  },
  {
   "cell_type": "code",
   "execution_count": 55,
   "metadata": {},
   "outputs": [
    {
     "data": {
      "text/html": [
       "<div>\n",
       "<style scoped>\n",
       "    .dataframe tbody tr th:only-of-type {\n",
       "        vertical-align: middle;\n",
       "    }\n",
       "\n",
       "    .dataframe tbody tr th {\n",
       "        vertical-align: top;\n",
       "    }\n",
       "\n",
       "    .dataframe thead th {\n",
       "        text-align: right;\n",
       "    }\n",
       "</style>\n",
       "<table border=\"1\" class=\"dataframe\">\n",
       "  <thead>\n",
       "    <tr style=\"text-align: right;\">\n",
       "      <th></th>\n",
       "      <th>ID</th>\n",
       "      <th>Date reported</th>\n",
       "      <th>AHS Zone</th>\n",
       "      <th>Gender</th>\n",
       "      <th>Age</th>\n",
       "      <th>Status</th>\n",
       "      <th>Case type</th>\n",
       "    </tr>\n",
       "  </thead>\n",
       "  <tbody>\n",
       "    <tr>\n",
       "      <th>0</th>\n",
       "      <td>1</td>\n",
       "      <td>2020-10-13</td>\n",
       "      <td>Edmonton Zone</td>\n",
       "      <td>Male</td>\n",
       "      <td>40-49 years</td>\n",
       "      <td>Recovered</td>\n",
       "      <td>Confirmed</td>\n",
       "    </tr>\n",
       "    <tr>\n",
       "      <th>1</th>\n",
       "      <td>2</td>\n",
       "      <td>2020-11-08</td>\n",
       "      <td>Calgary Zone</td>\n",
       "      <td>Male</td>\n",
       "      <td>10-19 years</td>\n",
       "      <td>Recovered</td>\n",
       "      <td>Confirmed</td>\n",
       "    </tr>\n",
       "    <tr>\n",
       "      <th>2</th>\n",
       "      <td>3</td>\n",
       "      <td>2020-10-13</td>\n",
       "      <td>South Zone</td>\n",
       "      <td>Male</td>\n",
       "      <td>5-9 years</td>\n",
       "      <td>Recovered</td>\n",
       "      <td>Confirmed</td>\n",
       "    </tr>\n",
       "    <tr>\n",
       "      <th>3</th>\n",
       "      <td>4</td>\n",
       "      <td>2020-11-25</td>\n",
       "      <td>Calgary Zone</td>\n",
       "      <td>Female</td>\n",
       "      <td>80+ years</td>\n",
       "      <td>Recovered</td>\n",
       "      <td>Confirmed</td>\n",
       "    </tr>\n",
       "    <tr>\n",
       "      <th>4</th>\n",
       "      <td>5</td>\n",
       "      <td>2020-11-26</td>\n",
       "      <td>Central Zone</td>\n",
       "      <td>Female</td>\n",
       "      <td>80+ years</td>\n",
       "      <td>Recovered</td>\n",
       "      <td>Confirmed</td>\n",
       "    </tr>\n",
       "  </tbody>\n",
       "</table>\n",
       "</div>"
      ],
      "text/plain": [
       "   ID Date reported       AHS Zone  Gender          Age     Status  Case type\n",
       "0   1    2020-10-13  Edmonton Zone    Male  40-49 years  Recovered  Confirmed\n",
       "1   2    2020-11-08   Calgary Zone    Male  10-19 years  Recovered  Confirmed\n",
       "2   3    2020-10-13     South Zone    Male    5-9 years  Recovered  Confirmed\n",
       "3   4    2020-11-25   Calgary Zone  Female    80+ years  Recovered  Confirmed\n",
       "4   5    2020-11-26   Central Zone  Female    80+ years  Recovered  Confirmed"
      ]
     },
     "execution_count": 55,
     "metadata": {},
     "output_type": "execute_result"
    }
   ],
   "source": [
    "# Rename column to easily identifiable names\n",
    "df = df.rename(columns={\"Unnamed: 0\": \"ID\", \"Alberta Health Services Zone\": \"AHS Zone\", \"Gender\": \"Gender\", \"Age group\": \"Age\", \"Case status\": \"Status\",\"Case type \": \"Type\"})\n",
    "df.head(5)"
   ]
  },
  {
   "cell_type": "code",
   "execution_count": 56,
   "metadata": {},
   "outputs": [
    {
     "name": "stdout",
     "output_type": "stream",
     "text": [
      "number of duplicate rows:  (0, 7)\n"
     ]
    }
   ],
   "source": [
    "# Find the no. of duplicate rows in the dataset\n",
    "duplicate_rows_df = df[df.duplicated()]\n",
    "print(\"number of duplicate rows: \", duplicate_rows_df.shape)"
   ]
  },
  {
   "cell_type": "code",
   "execution_count": 57,
   "metadata": {},
   "outputs": [
    {
     "data": {
      "text/plain": [
       "ID               108469\n",
       "Date reported    108469\n",
       "AHS Zone         108469\n",
       "Gender           108469\n",
       "Age              108469\n",
       "Status           108469\n",
       "Case type        108469\n",
       "dtype: int64"
      ]
     },
     "execution_count": 57,
     "metadata": {},
     "output_type": "execute_result"
    }
   ],
   "source": [
    "#df = df.drop_duplicates() # Drop duplicates\n",
    "\n",
    "# Show column counts\n",
    "df.count()"
   ]
  },
  {
   "cell_type": "code",
   "execution_count": 58,
   "metadata": {},
   "outputs": [
    {
     "name": "stdout",
     "output_type": "stream",
     "text": [
      "ID               0\n",
      "Date reported    0\n",
      "AHS Zone         0\n",
      "Gender           0\n",
      "Age              0\n",
      "Status           0\n",
      "Case type        0\n",
      "dtype: int64\n"
     ]
    }
   ],
   "source": [
    "#dc_df['DUI'] = dc_df['DUI'].replace('0','N') # Replace 0s with 'N'\n",
    "#dc_df['DUI'] = dc_df['DUI'].fillna('N') # Replace null values with 'N'\n",
    "\n",
    "# Check no. of nulls in each column\n",
    "print(df.isnull().sum())"
   ]
  },
  {
   "cell_type": "code",
   "execution_count": 59,
   "metadata": {},
   "outputs": [],
   "source": [
    "#dc_df = dc_df[~dc_df['StateCode'].isnull()] # Get rid of nulls\n",
    "\n",
    "# Plot Severity by AddressType\n",
    "#plt.figure(figsize=(20,5))\n",
    "#sns.boxplot(x=df['AddressType'], y=df['Severity'])"
   ]
  },
  {
   "cell_type": "code",
   "execution_count": 60,
   "metadata": {},
   "outputs": [
    {
     "data": {
      "image/png": "[encoded data removed]",
      "text/plain": [
       "<Figure size 720x360 with 1 Axes>"
      ]
     },
     "metadata": {},
     "output_type": "display_data"
    }
   ],
   "source": [
    "# Plot No. of Cases by Case status\n",
    "df['Status'].value_counts().plot(kind='bar', figsize=(10,5))\n",
    "plt.title(\"No. of Cases by Status\")\n",
    "plt.ylabel('No. of Cases')\n",
    "plt.xlabel('Case status');"
   ]
  },
  {
   "cell_type": "code",
   "execution_count": 61,
   "metadata": {},
   "outputs": [
    {
     "data": {
      "image/png": "[encoded data removed]",
      "text/plain": [
       "<Figure size 720x360 with 1 Axes>"
      ]
     },
     "metadata": {},
     "output_type": "display_data"
    }
   ],
   "source": [
    "# Plot No. of Cases by Zones\n",
    "df['AHS Zone'].value_counts().plot(kind='bar', figsize=(10,5))\n",
    "plt.title(\"No. of Cases by AHS Zone\")\n",
    "plt.ylabel('No. of Cases')\n",
    "plt.xlabel('AHS Zone');"
   ]
  },
  {
   "cell_type": "code",
   "execution_count": 69,
   "metadata": {},
   "outputs": [
    {
     "data": {
      "image/png": "[encoded data removed]",
      "text/plain": [
       "<Figure size 720x360 with 1 Axes>"
      ]
     },
     "metadata": {},
     "output_type": "display_data"
    }
   ],
   "source": [
    "# Plot No. of Cases by Age groups\n",
    "df['Age'].value_counts().plot(kind='bar', figsize=(10,5))\n",
    "plt.title(\"No. of Cases by Age group\")\n",
    "plt.ylabel('No. of Cases')\n",
    "plt.xlabel('Age group');"
   ]
  },
  {
   "cell_type": "code",
   "execution_count": 70,
   "metadata": {},
   "outputs": [],
   "source": [
    "# Convert to datetime field\n",
    "df['Date reported'] = df['Date reported'].astype(\"datetime64\")"
   ]
  },
  {
   "cell_type": "code",
   "execution_count": 71,
   "metadata": {},
   "outputs": [],
   "source": [
    "df_rec = df.loc[df['Status'] == 2]"
   ]
  },
  {
   "cell_type": "code",
   "execution_count": 72,
   "metadata": {},
   "outputs": [
    {
     "name": "stdout",
     "output_type": "stream",
     "text": [
      "Series([], Name: Date reported, dtype: datetime64[ns])\n"
     ]
    }
   ],
   "source": [
    "print(df_rec['Date reported'])"
   ]
  },
  {
   "cell_type": "code",
   "execution_count": 73,
   "metadata": {},
   "outputs": [
    {
     "data": {
      "text/plain": [
       "<matplotlib.lines.Line2D at 0x7f9572fef640>"
      ]
     },
     "execution_count": 73,
     "metadata": {},
     "output_type": "execute_result"
    },
    {
     "data": {
      "image/png": "[encoded data removed]",
      "text/plain": [
       "<Figure size 1080x360 with 1 Axes>"
      ]
     },
     "metadata": {},
     "output_type": "display_data"
    }
   ],
   "source": [
    "# Plot histogram over reported date period. The dashed red line is a sample reference date.\n",
    "import datetime as dt\n",
    "plt.figure(figsize=(15,5))\n",
    "plt.hist(df['Date reported'], bins=100);\n",
    "plt.axvline(x=dt.datetime(2020, 4, 23), color='r', linestyle='dashed', linewidth=2)"
   ]
  },
  {
   "cell_type": "code",
   "execution_count": 74,
   "metadata": {},
   "outputs": [
    {
     "data": {
      "text/plain": [
       "30-39 years     20750\n",
       "20-29 years     20383\n",
       "40-49 years     17160\n",
       "50-59 years     12926\n",
       "10-19 years     12315\n",
       "60-69 years      8064\n",
       "5-9 years        4540\n",
       "80+ years        4443\n",
       "70-79 years      3968\n",
       "1-4 years        3301\n",
       "Under 1 year      589\n",
       "Unknown            30\n",
       "Name: Age, dtype: int64"
      ]
     },
     "execution_count": 74,
     "metadata": {},
     "output_type": "execute_result"
    }
   ],
   "source": [
    "# Get counts for each age group (category)\n",
    "df['Age'].value_counts()"
   ]
  },
  {
   "cell_type": "code",
   "execution_count": 75,
   "metadata": {},
   "outputs": [],
   "source": [
    "# Map each age group to a numeric variable\n",
    "from sklearn import preprocessing\n",
    "Age = preprocessing.LabelEncoder()\n",
    "Age.fit(['30-39 years', '20-29 years', '40-49 years', '50-59 years', '10-19 years', '60-69 years', '5-9 years', '80+ years', '70-79 years', '1-4 years', 'Under 1 year', 'Unknown'])\n",
    "df['Age'] = Age.transform(df['Age'])"
   ]
  },
  {
   "cell_type": "code",
   "execution_count": 76,
   "metadata": {},
   "outputs": [
    {
     "data": {
      "text/plain": [
       "3     20750\n",
       "2     20383\n",
       "4     17160\n",
       "6     12926\n",
       "1     12315\n",
       "7      8064\n",
       "5      4540\n",
       "9      4443\n",
       "8      3968\n",
       "0      3301\n",
       "10      589\n",
       "11       30\n",
       "Name: Age, dtype: int64"
      ]
     },
     "execution_count": 76,
     "metadata": {},
     "output_type": "execute_result"
    }
   ],
   "source": [
    "# Check the maped categories along with their counts\n",
    "df['Age'].value_counts()"
   ]
  },
  {
   "cell_type": "code",
   "execution_count": 77,
   "metadata": {},
   "outputs": [
    {
     "data": {
      "text/plain": [
       "Male       54241\n",
       "Female     54185\n",
       "Unknown       43\n",
       "Name: Gender, dtype: int64"
      ]
     },
     "execution_count": 77,
     "metadata": {},
     "output_type": "execute_result"
    }
   ],
   "source": [
    "# Get category counts for gender feature\n",
    "df['Gender'].value_counts()"
   ]
  },
  {
   "cell_type": "code",
   "execution_count": 78,
   "metadata": {},
   "outputs": [],
   "source": [
    "# Map each gender category to a numeric variable\n",
    "Gender = preprocessing.LabelEncoder()\n",
    "Gender.fit(['Male', 'Female', 'Unknown'])\n",
    "df['Gender'] = Gender.transform(df['Gender'])"
   ]
  },
  {
   "cell_type": "code",
   "execution_count": 79,
   "metadata": {},
   "outputs": [
    {
     "data": {
      "text/plain": [
       "1    54241\n",
       "0    54185\n",
       "2       43\n",
       "Name: Gender, dtype: int64"
      ]
     },
     "execution_count": 79,
     "metadata": {},
     "output_type": "execute_result"
    }
   ],
   "source": [
    "# Get counts for converted gender\n",
    "df['Gender'].value_counts()"
   ]
  },
  {
   "cell_type": "code",
   "execution_count": 80,
   "metadata": {},
   "outputs": [
    {
     "data": {
      "text/plain": [
       "Recovered    93954\n",
       "Active       13298\n",
       "Died          1217\n",
       "Name: Status, dtype: int64"
      ]
     },
     "execution_count": 80,
     "metadata": {},
     "output_type": "execute_result"
    }
   ],
   "source": [
    "# Get counts for status\n",
    "df['Status'].value_counts()"
   ]
  },
  {
   "cell_type": "code",
   "execution_count": 81,
   "metadata": {},
   "outputs": [],
   "source": [
    "# Map each status category to a numeric variable\n",
    "Status = preprocessing.LabelEncoder()\n",
    "Status.fit(['Recovered', 'Active', 'Died'])\n",
    "df['Status'] = Status.transform(df['Status'])"
   ]
  },
  {
   "cell_type": "code",
   "execution_count": 82,
   "metadata": {},
   "outputs": [
    {
     "data": {
      "text/plain": [
       "2    93954\n",
       "0    13298\n",
       "1     1217\n",
       "Name: Status, dtype: int64"
      ]
     },
     "execution_count": 82,
     "metadata": {},
     "output_type": "execute_result"
    }
   ],
   "source": [
    "# Get value counts for status\n",
    "df['Status'].value_counts()"
   ]
  },
  {
   "cell_type": "code",
   "execution_count": 83,
   "metadata": {},
   "outputs": [
    {
     "data": {
      "text/plain": [
       "Confirmed    106620\n",
       "Probable       1849\n",
       "Name: Case type, dtype: int64"
      ]
     },
     "execution_count": 83,
     "metadata": {},
     "output_type": "execute_result"
    }
   ],
   "source": [
    "# Get value counts for case type\n",
    "df['Case type'].value_counts()"
   ]
  },
  {
   "cell_type": "code",
   "execution_count": 84,
   "metadata": {},
   "outputs": [],
   "source": [
    "# Map each case type category to a numeric variable\n",
    "CaseType = preprocessing.LabelEncoder()\n",
    "CaseType.fit(['Confirmed', 'Probable'])\n",
    "df['Case type'] = CaseType.transform(df['Case type'])"
   ]
  },
  {
   "cell_type": "code",
   "execution_count": 85,
   "metadata": {},
   "outputs": [
    {
     "data": {
      "text/plain": [
       "0    106620\n",
       "1      1849\n",
       "Name: Case type, dtype: int64"
      ]
     },
     "execution_count": 85,
     "metadata": {},
     "output_type": "execute_result"
    }
   ],
   "source": [
    "# Get value counts for each case type category\n",
    "df['Case type'].value_counts()"
   ]
  },
  {
   "cell_type": "code",
   "execution_count": 86,
   "metadata": {},
   "outputs": [
    {
     "data": {
      "text/plain": [
       "Edmonton Zone    46386\n",
       "Calgary Zone     41500\n",
       "North Zone        7834\n",
       "Central Zone      7364\n",
       "South Zone        5167\n",
       "Unknown            218\n",
       "Name: AHS Zone, dtype: int64"
      ]
     },
     "execution_count": 86,
     "metadata": {},
     "output_type": "execute_result"
    }
   ],
   "source": [
    "# Get value count for each AHS Zone category\n",
    "df['AHS Zone'].value_counts()"
   ]
  },
  {
   "cell_type": "code",
   "execution_count": 87,
   "metadata": {},
   "outputs": [],
   "source": [
    "# Map each zone category to a numeric variable\n",
    "Zone = preprocessing.LabelEncoder()\n",
    "Zone.fit(['Edmonton Zone', 'Calgary Zone', 'North Zone', 'Central Zone', 'South Zone', 'Unknown'])\n",
    "df['AHS Zone'] = Zone.transform(df['AHS Zone'])"
   ]
  },
  {
   "cell_type": "code",
   "execution_count": 88,
   "metadata": {},
   "outputs": [
    {
     "data": {
      "text/plain": [
       "2    46386\n",
       "0    41500\n",
       "3     7834\n",
       "1     7364\n",
       "4     5167\n",
       "5      218\n",
       "Name: AHS Zone, dtype: int64"
      ]
     },
     "execution_count": 88,
     "metadata": {},
     "output_type": "execute_result"
    }
   ],
   "source": [
    "# Get value count for each AHS Zone category\n",
    "df['AHS Zone'].value_counts()"
   ]
  },
  {
   "cell_type": "code",
   "execution_count": 95,
   "metadata": {},
   "outputs": [
    {
     "data": {
      "text/plain": [
       "<matplotlib.axes._subplots.AxesSubplot at 0x7f9573c967c0>"
      ]
     },
     "execution_count": 95,
     "metadata": {},
     "output_type": "execute_result"
    },
    {
     "data": {
      "image/png": "[encoded data removed]",
      "text/plain": [
       "<Figure size 720x360 with 2 Axes>"
      ]
     },
     "metadata": {},
     "output_type": "display_data"
    }
   ],
   "source": [
    "# Plot correlation matrix\n",
    "plt.figure(figsize=(10,5))\n",
    "c = df.iloc[:,2:].corr()\n",
    "c\n",
    "sns.heatmap(c, cmap=\"coolwarm\",annot=True)"
   ]
  },
  {
   "cell_type": "code",
   "execution_count": 90,
   "metadata": {},
   "outputs": [
    {
     "data": {
      "text/html": [
       "<div>\n",
       "<style scoped>\n",
       "    .dataframe tbody tr th:only-of-type {\n",
       "        vertical-align: middle;\n",
       "    }\n",
       "\n",
       "    .dataframe tbody tr th {\n",
       "        vertical-align: top;\n",
       "    }\n",
       "\n",
       "    .dataframe thead th {\n",
       "        text-align: right;\n",
       "    }\n",
       "</style>\n",
       "<table border=\"1\" class=\"dataframe\">\n",
       "  <thead>\n",
       "    <tr style=\"text-align: right;\">\n",
       "      <th></th>\n",
       "      <th>ID</th>\n",
       "      <th>AHS Zone</th>\n",
       "      <th>Gender</th>\n",
       "      <th>Age</th>\n",
       "      <th>Status</th>\n",
       "      <th>Case type</th>\n",
       "    </tr>\n",
       "  </thead>\n",
       "  <tbody>\n",
       "    <tr>\n",
       "      <th>ID</th>\n",
       "      <td>1.000000</td>\n",
       "      <td>-0.012879</td>\n",
       "      <td>0.006879</td>\n",
       "      <td>0.038080</td>\n",
       "      <td>0.067104</td>\n",
       "      <td>0.153435</td>\n",
       "    </tr>\n",
       "    <tr>\n",
       "      <th>AHS Zone</th>\n",
       "      <td>-0.012879</td>\n",
       "      <td>1.000000</td>\n",
       "      <td>-0.009283</td>\n",
       "      <td>0.014010</td>\n",
       "      <td>-0.002886</td>\n",
       "      <td>0.030613</td>\n",
       "    </tr>\n",
       "    <tr>\n",
       "      <th>Gender</th>\n",
       "      <td>0.006879</td>\n",
       "      <td>-0.009283</td>\n",
       "      <td>1.000000</td>\n",
       "      <td>-0.023502</td>\n",
       "      <td>0.006280</td>\n",
       "      <td>-0.002713</td>\n",
       "    </tr>\n",
       "    <tr>\n",
       "      <th>Age</th>\n",
       "      <td>0.038080</td>\n",
       "      <td>0.014010</td>\n",
       "      <td>-0.023502</td>\n",
       "      <td>1.000000</td>\n",
       "      <td>-0.095390</td>\n",
       "      <td>-0.011852</td>\n",
       "    </tr>\n",
       "    <tr>\n",
       "      <th>Status</th>\n",
       "      <td>0.067104</td>\n",
       "      <td>-0.002886</td>\n",
       "      <td>0.006280</td>\n",
       "      <td>-0.095390</td>\n",
       "      <td>1.000000</td>\n",
       "      <td>-0.030086</td>\n",
       "    </tr>\n",
       "    <tr>\n",
       "      <th>Case type</th>\n",
       "      <td>0.153435</td>\n",
       "      <td>0.030613</td>\n",
       "      <td>-0.002713</td>\n",
       "      <td>-0.011852</td>\n",
       "      <td>-0.030086</td>\n",
       "      <td>1.000000</td>\n",
       "    </tr>\n",
       "  </tbody>\n",
       "</table>\n",
       "</div>"
      ],
      "text/plain": [
       "                 ID  AHS Zone    Gender       Age    Status  Case type\n",
       "ID         1.000000 -0.012879  0.006879  0.038080  0.067104   0.153435\n",
       "AHS Zone  -0.012879  1.000000 -0.009283  0.014010 -0.002886   0.030613\n",
       "Gender     0.006879 -0.009283  1.000000 -0.023502  0.006280  -0.002713\n",
       "Age        0.038080  0.014010 -0.023502  1.000000 -0.095390  -0.011852\n",
       "Status     0.067104 -0.002886  0.006280 -0.095390  1.000000  -0.030086\n",
       "Case type  0.153435  0.030613 -0.002713 -0.011852 -0.030086   1.000000"
      ]
     },
     "execution_count": 90,
     "metadata": {},
     "output_type": "execute_result"
    }
   ],
   "source": [
    "# Display the correlation matrix values\n",
    "corr = df.corr()\n",
    "corr"
   ]
  },
  {
   "cell_type": "code",
   "execution_count": 91,
   "metadata": {},
   "outputs": [
    {
     "data": {
      "text/html": [
       "<div>\n",
       "<style scoped>\n",
       "    .dataframe tbody tr th:only-of-type {\n",
       "        vertical-align: middle;\n",
       "    }\n",
       "\n",
       "    .dataframe tbody tr th {\n",
       "        vertical-align: top;\n",
       "    }\n",
       "\n",
       "    .dataframe thead th {\n",
       "        text-align: right;\n",
       "    }\n",
       "</style>\n",
       "<table border=\"1\" class=\"dataframe\">\n",
       "  <thead>\n",
       "    <tr style=\"text-align: right;\">\n",
       "      <th></th>\n",
       "      <th>ID</th>\n",
       "      <th>Date reported</th>\n",
       "      <th>AHS Zone</th>\n",
       "      <th>Gender</th>\n",
       "      <th>Age</th>\n",
       "      <th>Status</th>\n",
       "      <th>Case type</th>\n",
       "    </tr>\n",
       "  </thead>\n",
       "  <tbody>\n",
       "    <tr>\n",
       "      <th>0</th>\n",
       "      <td>1</td>\n",
       "      <td>2020-10-13</td>\n",
       "      <td>2</td>\n",
       "      <td>1</td>\n",
       "      <td>4</td>\n",
       "      <td>2</td>\n",
       "      <td>0</td>\n",
       "    </tr>\n",
       "    <tr>\n",
       "      <th>1</th>\n",
       "      <td>2</td>\n",
       "      <td>2020-11-08</td>\n",
       "      <td>0</td>\n",
       "      <td>1</td>\n",
       "      <td>1</td>\n",
       "      <td>2</td>\n",
       "      <td>0</td>\n",
       "    </tr>\n",
       "    <tr>\n",
       "      <th>2</th>\n",
       "      <td>3</td>\n",
       "      <td>2020-10-13</td>\n",
       "      <td>4</td>\n",
       "      <td>1</td>\n",
       "      <td>5</td>\n",
       "      <td>2</td>\n",
       "      <td>0</td>\n",
       "    </tr>\n",
       "    <tr>\n",
       "      <th>3</th>\n",
       "      <td>4</td>\n",
       "      <td>2020-11-25</td>\n",
       "      <td>0</td>\n",
       "      <td>0</td>\n",
       "      <td>9</td>\n",
       "      <td>2</td>\n",
       "      <td>0</td>\n",
       "    </tr>\n",
       "    <tr>\n",
       "      <th>4</th>\n",
       "      <td>5</td>\n",
       "      <td>2020-11-26</td>\n",
       "      <td>1</td>\n",
       "      <td>0</td>\n",
       "      <td>9</td>\n",
       "      <td>2</td>\n",
       "      <td>0</td>\n",
       "    </tr>\n",
       "  </tbody>\n",
       "</table>\n",
       "</div>"
      ],
      "text/plain": [
       "   ID Date reported  AHS Zone  Gender  Age  Status  Case type\n",
       "0   1    2020-10-13         2       1    4       2          0\n",
       "1   2    2020-11-08         0       1    1       2          0\n",
       "2   3    2020-10-13         4       1    5       2          0\n",
       "3   4    2020-11-25         0       0    9       2          0\n",
       "4   5    2020-11-26         1       0    9       2          0"
      ]
     },
     "execution_count": 91,
     "metadata": {},
     "output_type": "execute_result"
    }
   ],
   "source": [
    "# Display the first 5 rows\n",
    "df.head()"
   ]
  },
  {
   "cell_type": "code",
   "execution_count": 92,
   "metadata": {},
   "outputs": [
    {
     "data": {
      "text/plain": [
       "<seaborn.axisgrid.PairGrid at 0x7f957300ce80>"
      ]
     },
     "execution_count": 92,
     "metadata": {},
     "output_type": "execute_result"
    },
    {
     "data": {
      "image/png": "[encoded data removed]",
      "text/plain": [
       "<Figure size 1080x1080 with 42 Axes>"
      ]
     },
     "metadata": {},
     "output_type": "display_data"
    }
   ],
   "source": [
    "# Show a pair plot of the features\n",
    "sns.pairplot(corr)"
   ]
  },
  {
   "cell_type": "code",
   "execution_count": null,
   "metadata": {},
   "outputs": [],
   "source": []
  }
 ],
 "metadata": {
  "kernelspec": {
   "display_name": "Python 3",
   "language": "python",
   "name": "python3"
  },
  "language_info": {
   "codemirror_mode": {
    "name": "ipython",
    "version": 3
   },
   "file_extension": ".py",
   "mimetype": "text/x-python",
   "name": "python",
   "nbconvert_exporter": "python",
   "pygments_lexer": "ipython3",
   "version": "3.8.3"
  }
 },
 "nbformat": 4,
 "nbformat_minor": 4
}
