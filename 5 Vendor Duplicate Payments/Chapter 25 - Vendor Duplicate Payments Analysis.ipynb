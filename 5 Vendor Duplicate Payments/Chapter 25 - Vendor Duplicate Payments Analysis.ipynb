{
 "cells": [
  {
   "cell_type": "code",
   "execution_count": 24,
   "metadata": {},
   "outputs": [],
   "source": [
    "# Import Required Libraries\n",
    "import numpy as np\n",
    "import time \n",
    "from sklearn.neighbors import NearestNeighbors"
   ]
  },
  {
   "cell_type": "markdown",
   "metadata": {},
   "source": [
    "<h2>Step 1: Data Preparation</h2>"
   ]
  },
  {
   "cell_type": "code",
   "execution_count": 25,
   "metadata": {},
   "outputs": [],
   "source": [
    "# Set random seed so we can reproduce the numbers\n",
    "np.random.seed(1)\n",
    "veclen = 10\n",
    "\n",
    "# Create random sample of 100,000 rows based on a normal distribution\n",
    "vecs = [np.random.normal(0, 1, veclen) for _ in range(100000)]"
   ]
  },
  {
   "cell_type": "code",
   "execution_count": 26,
   "metadata": {},
   "outputs": [
    {
     "data": {
      "text/plain": [
       "[array([ 1.62434536, -0.61175641, -0.52817175, -1.07296862,  0.86540763,\n",
       "        -2.3015387 ,  1.74481176, -0.7612069 ,  0.3190391 , -0.24937038]),\n",
       " array([ 1.46210794, -2.06014071, -0.3224172 , -0.38405435,  1.13376944,\n",
       "        -1.09989127, -0.17242821, -0.87785842,  0.04221375,  0.58281521]),\n",
       " array([-1.10061918,  1.14472371,  0.90159072,  0.50249434,  0.90085595,\n",
       "        -0.68372786, -0.12289023, -0.93576943, -0.26788808,  0.53035547]),\n",
       " array([-0.69166075, -0.39675353, -0.6871727 , -0.84520564, -0.67124613,\n",
       "        -0.0126646 , -1.11731035,  0.2344157 ,  1.65980218,  0.74204416]),\n",
       " array([-0.19183555, -0.88762896, -0.74715829,  1.6924546 ,  0.05080775,\n",
       "        -0.63699565,  0.19091548,  2.10025514,  0.12015895,  0.61720311])]"
      ]
     },
     "execution_count": 26,
     "metadata": {},
     "output_type": "execute_result"
    }
   ],
   "source": [
    "# Show the first 5 rows in the list\n",
    "vecs[:5]"
   ]
  },
  {
   "cell_type": "code",
   "execution_count": 27,
   "metadata": {},
   "outputs": [],
   "source": [
    "# Set random seed so we can reproduce the numbers\n",
    "np.random.seed(2)\n",
    "\n",
    "# Generate a random sample\n",
    "q = np.random.normal(0, 1, veclen)"
   ]
  },
  {
   "cell_type": "code",
   "execution_count": 28,
   "metadata": {},
   "outputs": [],
   "source": [
    "# Normalize the values\n",
    "maxnorm = max([np.linalg.norm(v) for v in vecs])"
   ]
  },
  {
   "cell_type": "code",
   "execution_count": 29,
   "metadata": {},
   "outputs": [],
   "source": [
    "# Function to calculate the euclidean distance between the observations\n",
    "def transform(vecs):\n",
    "    maxnorm = max([np.linalg.norm(v) for v in vecs])\n",
    "    new_vecs = []\n",
    "    for v in vecs:\n",
    "        new_vecs.append(np.insert(v, 0, np.sqrt(maxnorm**2-np.linalg.norm(v)**2)))\n",
    "    return new_vecs"
   ]
  },
  {
   "cell_type": "code",
   "execution_count": 30,
   "metadata": {},
   "outputs": [],
   "source": [
    "# Calculate the distance for all rows\n",
    "vecs_trans = transform(vecs)"
   ]
  },
  {
   "cell_type": "code",
   "execution_count": 31,
   "metadata": {},
   "outputs": [
    {
     "data": {
      "text/plain": [
       "array([ 6.32518175, -0.12247391,  0.22816982, -0.35230513, -0.83055344,\n",
       "       -0.26108982,  0.16935423,  0.6736231 , -0.32720161, -0.30529915,\n",
       "        0.52486533])"
      ]
     },
     "execution_count": 31,
     "metadata": {},
     "output_type": "execute_result"
    }
   ],
   "source": [
    "# Check the distance calculation and append\n",
    "vecs_trans[1000]"
   ]
  },
  {
   "cell_type": "code",
   "execution_count": 32,
   "metadata": {},
   "outputs": [],
   "source": [
    "# Use the generated single random sample as a sample transaction to test\n",
    "q_trans = np.insert(q, 0, 0)"
   ]
  },
  {
   "cell_type": "code",
   "execution_count": 33,
   "metadata": {},
   "outputs": [
    {
     "data": {
      "text/plain": [
       "array([ 0.        , -0.41675785, -0.05626683, -2.1361961 ,  1.64027081,\n",
       "       -1.79343559, -0.84174737,  0.50288142, -1.24528809, -1.05795222,\n",
       "       -0.90900761])"
      ]
     },
     "execution_count": 33,
     "metadata": {},
     "output_type": "execute_result"
    }
   ],
   "source": [
    "# Display the transaction\n",
    "q_trans"
   ]
  },
  {
   "cell_type": "code",
   "execution_count": 34,
   "metadata": {},
   "outputs": [],
   "source": [
    "# Use the dot product to calculate the compare the sample transaction to all the transactions seen so far\n",
    "def mips_naive(q, vecs):\n",
    "    mip = -1e10\n",
    "    idx = -1\n",
    "    for i, v in enumerate(vecs):\n",
    "        if np.dot(q, v) > mip:\n",
    "            mip = np.dot(q, v)\n",
    "            idx = i\n",
    "    return idx, mip"
   ]
  },
  {
   "cell_type": "code",
   "execution_count": 35,
   "metadata": {},
   "outputs": [
    {
     "name": "stdout",
     "output_type": "stream",
     "text": [
      "Min index 50753\n",
      "Elapsed time 0.13890886306762695\n"
     ]
    }
   ],
   "source": [
    "# Find the index of a seen transaction that is the closest to the comparison transaction and calculate time taken for the comparison process\n",
    "start = time.time()\n",
    "idx,_ = mips_naive(q, vecs)\n",
    "print(\"Min index\", idx)\n",
    "print(\"Elapsed time\", time.time()-start)"
   ]
  },
  {
   "cell_type": "code",
   "execution_count": 36,
   "metadata": {},
   "outputs": [],
   "source": [
    "X = np.array(vecs_trans)"
   ]
  },
  {
   "cell_type": "markdown",
   "metadata": {},
   "source": [
    "<h2>Step 2: Perform K-NN algorithm</h2>"
   ]
  },
  {
   "cell_type": "code",
   "execution_count": 39,
   "metadata": {},
   "outputs": [],
   "source": [
    "# Use KNN to fit the transactions to a KNN model\n",
    "nbrs = NearestNeighbors(n_neighbors=1, algorithm='kd_tree').fit(X)"
   ]
  },
  {
   "cell_type": "code",
   "execution_count": 41,
   "metadata": {},
   "outputs": [
    {
     "name": "stdout",
     "output_type": "stream",
     "text": [
      "Min index [50753]\n",
      "Elapsed time 0.0052530765533447266\n"
     ]
    }
   ],
   "source": [
    "# Calculate the time taken to use KNN to compare the sample transaction and find the nearest transaction that was seen before\n",
    "start = time.time()\n",
    "distances, indices = nbrs.kneighbors(np.array([q_trans]))\n",
    "print(\"Min index\", indices[0])\n",
    "print(\"Elapsed time\", time.time()-start)"
   ]
  },
  {
   "cell_type": "code",
   "execution_count": 42,
   "metadata": {},
   "outputs": [
    {
     "data": {
      "text/plain": [
       "array([[50753]])"
      ]
     },
     "execution_count": 42,
     "metadata": {},
     "output_type": "execute_result"
    }
   ],
   "source": [
    "indices"
   ]
  },
  {
   "cell_type": "code",
   "execution_count": 36,
   "metadata": {},
   "outputs": [
    {
     "data": {
      "text/plain": [
       "array([[4.89652365]])"
      ]
     },
     "execution_count": 36,
     "metadata": {},
     "output_type": "execute_result"
    }
   ],
   "source": [
    "distances"
   ]
  },
  {
   "cell_type": "code",
   "execution_count": 23,
   "metadata": {},
   "outputs": [
    {
     "data": {
      "text/plain": [
       "(100000, 11)"
      ]
     },
     "execution_count": 23,
     "metadata": {},
     "output_type": "execute_result"
    }
   ],
   "source": [
    "# Display the size of the total population\n",
    "X.shape"
   ]
  },
  {
   "cell_type": "code",
   "execution_count": 24,
   "metadata": {},
   "outputs": [
    {
     "data": {
      "text/plain": [
       "array([[ 4.28969653, -0.5965094 ,  1.42071035, -3.37551897,  0.73652411,\n",
       "        -1.97169694, -1.35898454,  0.64774945, -1.61868989, -0.50793098,\n",
       "        -0.41328024]])"
      ]
     },
     "execution_count": 24,
     "metadata": {},
     "output_type": "execute_result"
    }
   ],
   "source": [
    "# Get the corresponding features for the closest transaction\n",
    "X[indices[0]]"
   ]
  },
  {
   "cell_type": "code",
   "execution_count": 25,
   "metadata": {},
   "outputs": [
    {
     "data": {
      "text/plain": [
       "array([ 0.        , -0.41675785, -0.05626683, -2.1361961 ,  1.64027081,\n",
       "       -1.79343559, -0.84174737,  0.50288142, -1.24528809, -1.05795222,\n",
       "       -0.90900761])"
      ]
     },
     "execution_count": 25,
     "metadata": {},
     "output_type": "execute_result"
    }
   ],
   "source": [
    "# Check the above features with the features from the sample transaction\n",
    "q_trans"
   ]
  },
  {
   "cell_type": "code",
   "execution_count": null,
   "metadata": {},
   "outputs": [],
   "source": []
  }
 ],
 "metadata": {
  "kernelspec": {
   "display_name": "Python 3",
   "language": "python",
   "name": "python3"
  },
  "language_info": {
   "codemirror_mode": {
    "name": "ipython",
    "version": 3
   },
   "file_extension": ".py",
   "mimetype": "text/x-python",
   "name": "python",
   "nbconvert_exporter": "python",
   "pygments_lexer": "ipython3",
   "version": "3.8.3"
  }
 },
 "nbformat": 4,
 "nbformat_minor": 4
}
