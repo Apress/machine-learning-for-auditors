{
 "cells": [
  {
   "cell_type": "markdown",
   "metadata": {},
   "source": [
    "<h1>Fraud and Anomaly Detection</h1>"
   ]
  },
  {
   "cell_type": "code",
   "execution_count": 14,
   "metadata": {},
   "outputs": [],
   "source": [
    "# Import required libraries\n",
    "import pandas as pd\n",
    "import seaborn as sns\n",
    "import matplotlib.pyplot as plt\n",
    "import numpy as np\n",
    "from numpy import sqrt, array, random, argsort\n",
    "from sklearn.metrics import f1_score, classification_report\n",
    "from sklearn.model_selection import train_test_split\n",
    "from sklearn.svm import OneClassSVM\n",
    "from sklearn.cluster import KMeans\n",
    "from sklearn.preprocessing import scale"
   ]
  },
  {
   "cell_type": "markdown",
   "metadata": {},
   "source": [
    "<h2>Step 1: Data Preparation</h2>"
   ]
  },
  {
   "cell_type": "code",
   "execution_count": 3,
   "metadata": {},
   "outputs": [],
   "source": [
    "# Load the file containing the financial transactions\n",
    "df = pd.read_csv('FI_Transactions.csv')"
   ]
  },
  {
   "cell_type": "code",
   "execution_count": 15,
   "metadata": {},
   "outputs": [
    {
     "data": {
      "text/html": [
       "<div>\n",
       "<style scoped>\n",
       "    .dataframe tbody tr th:only-of-type {\n",
       "        vertical-align: middle;\n",
       "    }\n",
       "\n",
       "    .dataframe tbody tr th {\n",
       "        vertical-align: top;\n",
       "    }\n",
       "\n",
       "    .dataframe thead th {\n",
       "        text-align: right;\n",
       "    }\n",
       "</style>\n",
       "<table border=\"1\" class=\"dataframe\">\n",
       "  <thead>\n",
       "    <tr style=\"text-align: right;\">\n",
       "      <th></th>\n",
       "      <th>BUKRS</th>\n",
       "      <th>BELNR</th>\n",
       "      <th>GJAHR</th>\n",
       "      <th>MONAT</th>\n",
       "      <th>USNAM</th>\n",
       "      <th>WAERS</th>\n",
       "      <th>BSCHL</th>\n",
       "      <th>KOART</th>\n",
       "      <th>DMBTR</th>\n",
       "      <th>HKONT</th>\n",
       "      <th>LIFNR</th>\n",
       "      <th>Fraudulent</th>\n",
       "    </tr>\n",
       "  </thead>\n",
       "  <tbody>\n",
       "    <tr>\n",
       "      <th>0</th>\n",
       "      <td>1000</td>\n",
       "      <td>20000001</td>\n",
       "      <td>2018</td>\n",
       "      <td>1</td>\n",
       "      <td>MSEK</td>\n",
       "      <td>CAD</td>\n",
       "      <td>25</td>\n",
       "      <td>K</td>\n",
       "      <td>200</td>\n",
       "      <td>100000</td>\n",
       "      <td>11223344</td>\n",
       "      <td>-1</td>\n",
       "    </tr>\n",
       "    <tr>\n",
       "      <th>1</th>\n",
       "      <td>1000</td>\n",
       "      <td>20000002</td>\n",
       "      <td>2018</td>\n",
       "      <td>2</td>\n",
       "      <td>MSEK</td>\n",
       "      <td>CAD</td>\n",
       "      <td>25</td>\n",
       "      <td>K</td>\n",
       "      <td>200</td>\n",
       "      <td>100000</td>\n",
       "      <td>11223344</td>\n",
       "      <td>1</td>\n",
       "    </tr>\n",
       "    <tr>\n",
       "      <th>2</th>\n",
       "      <td>1000</td>\n",
       "      <td>20000003</td>\n",
       "      <td>2018</td>\n",
       "      <td>3</td>\n",
       "      <td>MSEK</td>\n",
       "      <td>CAD</td>\n",
       "      <td>25</td>\n",
       "      <td>K</td>\n",
       "      <td>200</td>\n",
       "      <td>100000</td>\n",
       "      <td>11223344</td>\n",
       "      <td>1</td>\n",
       "    </tr>\n",
       "    <tr>\n",
       "      <th>3</th>\n",
       "      <td>1000</td>\n",
       "      <td>20000004</td>\n",
       "      <td>2018</td>\n",
       "      <td>4</td>\n",
       "      <td>MSEK</td>\n",
       "      <td>CAD</td>\n",
       "      <td>25</td>\n",
       "      <td>K</td>\n",
       "      <td>200</td>\n",
       "      <td>100000</td>\n",
       "      <td>11223344</td>\n",
       "      <td>1</td>\n",
       "    </tr>\n",
       "    <tr>\n",
       "      <th>4</th>\n",
       "      <td>1000</td>\n",
       "      <td>20000005</td>\n",
       "      <td>2018</td>\n",
       "      <td>5</td>\n",
       "      <td>MSEK</td>\n",
       "      <td>CAD</td>\n",
       "      <td>25</td>\n",
       "      <td>K</td>\n",
       "      <td>200</td>\n",
       "      <td>100000</td>\n",
       "      <td>11223344</td>\n",
       "      <td>1</td>\n",
       "    </tr>\n",
       "  </tbody>\n",
       "</table>\n",
       "</div>"
      ],
      "text/plain": [
       "   BUKRS     BELNR  GJAHR  MONAT USNAM WAERS  BSCHL KOART  DMBTR   HKONT  \\\n",
       "0   1000  20000001   2018      1  MSEK   CAD     25     K    200  100000   \n",
       "1   1000  20000002   2018      2  MSEK   CAD     25     K    200  100000   \n",
       "2   1000  20000003   2018      3  MSEK   CAD     25     K    200  100000   \n",
       "3   1000  20000004   2018      4  MSEK   CAD     25     K    200  100000   \n",
       "4   1000  20000005   2018      5  MSEK   CAD     25     K    200  100000   \n",
       "\n",
       "      LIFNR  Fraudulent  \n",
       "0  11223344          -1  \n",
       "1  11223344           1  \n",
       "2  11223344           1  \n",
       "3  11223344           1  \n",
       "4  11223344           1  "
      ]
     },
     "execution_count": 15,
     "metadata": {},
     "output_type": "execute_result"
    }
   ],
   "source": [
    "# Show the first five rows\n",
    "df.head()"
   ]
  },
  {
   "cell_type": "markdown",
   "metadata": {},
   "source": [
    "<h2>Step 2: Exploratory Data Analysis</h2>"
   ]
  },
  {
   "cell_type": "code",
   "execution_count": 16,
   "metadata": {},
   "outputs": [
    {
     "data": {
      "text/plain": [
       "(50, 12)"
      ]
     },
     "execution_count": 16,
     "metadata": {},
     "output_type": "execute_result"
    }
   ],
   "source": [
    "# Check dimensions of the data frame (imported table). There are 50 rows and 12 columns here.\n",
    "df.shape"
   ]
  },
  {
   "cell_type": "code",
   "execution_count": 17,
   "metadata": {},
   "outputs": [
    {
     "data": {
      "text/html": [
       "<div>\n",
       "<style scoped>\n",
       "    .dataframe tbody tr th:only-of-type {\n",
       "        vertical-align: middle;\n",
       "    }\n",
       "\n",
       "    .dataframe tbody tr th {\n",
       "        vertical-align: top;\n",
       "    }\n",
       "\n",
       "    .dataframe thead th {\n",
       "        text-align: right;\n",
       "    }\n",
       "</style>\n",
       "<table border=\"1\" class=\"dataframe\">\n",
       "  <thead>\n",
       "    <tr style=\"text-align: right;\">\n",
       "      <th></th>\n",
       "      <th>BUKRS</th>\n",
       "      <th>BELNR</th>\n",
       "      <th>GJAHR</th>\n",
       "      <th>MONAT</th>\n",
       "      <th>USNAM</th>\n",
       "      <th>WAERS</th>\n",
       "      <th>BSCHL</th>\n",
       "      <th>KOART</th>\n",
       "      <th>DMBTR</th>\n",
       "      <th>HKONT</th>\n",
       "      <th>LIFNR</th>\n",
       "      <th>Fraudulent</th>\n",
       "    </tr>\n",
       "  </thead>\n",
       "  <tbody>\n",
       "    <tr>\n",
       "      <th>count</th>\n",
       "      <td>50.000000</td>\n",
       "      <td>5.000000e+01</td>\n",
       "      <td>50.000000</td>\n",
       "      <td>50.000000</td>\n",
       "      <td>50</td>\n",
       "      <td>50</td>\n",
       "      <td>50.0</td>\n",
       "      <td>50</td>\n",
       "      <td>50.000000</td>\n",
       "      <td>50.000000</td>\n",
       "      <td>5.000000e+01</td>\n",
       "      <td>50.000000</td>\n",
       "    </tr>\n",
       "    <tr>\n",
       "      <th>unique</th>\n",
       "      <td>NaN</td>\n",
       "      <td>NaN</td>\n",
       "      <td>NaN</td>\n",
       "      <td>NaN</td>\n",
       "      <td>4</td>\n",
       "      <td>2</td>\n",
       "      <td>NaN</td>\n",
       "      <td>1</td>\n",
       "      <td>NaN</td>\n",
       "      <td>NaN</td>\n",
       "      <td>NaN</td>\n",
       "      <td>NaN</td>\n",
       "    </tr>\n",
       "    <tr>\n",
       "      <th>top</th>\n",
       "      <td>NaN</td>\n",
       "      <td>NaN</td>\n",
       "      <td>NaN</td>\n",
       "      <td>NaN</td>\n",
       "      <td>MSEK</td>\n",
       "      <td>CAD</td>\n",
       "      <td>NaN</td>\n",
       "      <td>K</td>\n",
       "      <td>NaN</td>\n",
       "      <td>NaN</td>\n",
       "      <td>NaN</td>\n",
       "      <td>NaN</td>\n",
       "    </tr>\n",
       "    <tr>\n",
       "      <th>freq</th>\n",
       "      <td>NaN</td>\n",
       "      <td>NaN</td>\n",
       "      <td>NaN</td>\n",
       "      <td>NaN</td>\n",
       "      <td>21</td>\n",
       "      <td>40</td>\n",
       "      <td>NaN</td>\n",
       "      <td>50</td>\n",
       "      <td>NaN</td>\n",
       "      <td>NaN</td>\n",
       "      <td>NaN</td>\n",
       "      <td>NaN</td>\n",
       "    </tr>\n",
       "    <tr>\n",
       "      <th>mean</th>\n",
       "      <td>1340.000000</td>\n",
       "      <td>2.000003e+07</td>\n",
       "      <td>2019.640000</td>\n",
       "      <td>6.340000</td>\n",
       "      <td>NaN</td>\n",
       "      <td>NaN</td>\n",
       "      <td>25.0</td>\n",
       "      <td>NaN</td>\n",
       "      <td>6344.000000</td>\n",
       "      <td>126000.000000</td>\n",
       "      <td>1.122335e+07</td>\n",
       "      <td>0.800000</td>\n",
       "    </tr>\n",
       "    <tr>\n",
       "      <th>std</th>\n",
       "      <td>688.387646</td>\n",
       "      <td>1.457738e+01</td>\n",
       "      <td>1.102132</td>\n",
       "      <td>3.230025</td>\n",
       "      <td>NaN</td>\n",
       "      <td>NaN</td>\n",
       "      <td>0.0</td>\n",
       "      <td>NaN</td>\n",
       "      <td>23904.189369</td>\n",
       "      <td>44308.749769</td>\n",
       "      <td>6.456258e+00</td>\n",
       "      <td>0.606092</td>\n",
       "    </tr>\n",
       "    <tr>\n",
       "      <th>min</th>\n",
       "      <td>1000.000000</td>\n",
       "      <td>2.000000e+07</td>\n",
       "      <td>2018.000000</td>\n",
       "      <td>1.000000</td>\n",
       "      <td>NaN</td>\n",
       "      <td>NaN</td>\n",
       "      <td>25.0</td>\n",
       "      <td>NaN</td>\n",
       "      <td>100.000000</td>\n",
       "      <td>100000.000000</td>\n",
       "      <td>1.122334e+07</td>\n",
       "      <td>-1.000000</td>\n",
       "    </tr>\n",
       "    <tr>\n",
       "      <th>25%</th>\n",
       "      <td>1000.000000</td>\n",
       "      <td>2.000001e+07</td>\n",
       "      <td>2019.000000</td>\n",
       "      <td>4.000000</td>\n",
       "      <td>NaN</td>\n",
       "      <td>NaN</td>\n",
       "      <td>25.0</td>\n",
       "      <td>NaN</td>\n",
       "      <td>200.000000</td>\n",
       "      <td>100000.000000</td>\n",
       "      <td>1.122334e+07</td>\n",
       "      <td>1.000000</td>\n",
       "    </tr>\n",
       "    <tr>\n",
       "      <th>50%</th>\n",
       "      <td>1000.000000</td>\n",
       "      <td>2.000003e+07</td>\n",
       "      <td>2020.000000</td>\n",
       "      <td>6.500000</td>\n",
       "      <td>NaN</td>\n",
       "      <td>NaN</td>\n",
       "      <td>25.0</td>\n",
       "      <td>NaN</td>\n",
       "      <td>200.000000</td>\n",
       "      <td>100000.000000</td>\n",
       "      <td>1.122334e+07</td>\n",
       "      <td>1.000000</td>\n",
       "    </tr>\n",
       "    <tr>\n",
       "      <th>75%</th>\n",
       "      <td>2000.000000</td>\n",
       "      <td>2.000004e+07</td>\n",
       "      <td>2021.000000</td>\n",
       "      <td>9.000000</td>\n",
       "      <td>NaN</td>\n",
       "      <td>NaN</td>\n",
       "      <td>25.0</td>\n",
       "      <td>NaN</td>\n",
       "      <td>800.000000</td>\n",
       "      <td>175000.000000</td>\n",
       "      <td>1.122335e+07</td>\n",
       "      <td>1.000000</td>\n",
       "    </tr>\n",
       "    <tr>\n",
       "      <th>max</th>\n",
       "      <td>5000.000000</td>\n",
       "      <td>2.000005e+07</td>\n",
       "      <td>2021.000000</td>\n",
       "      <td>12.000000</td>\n",
       "      <td>NaN</td>\n",
       "      <td>NaN</td>\n",
       "      <td>25.0</td>\n",
       "      <td>NaN</td>\n",
       "      <td>100000.000000</td>\n",
       "      <td>200000.000000</td>\n",
       "      <td>1.122337e+07</td>\n",
       "      <td>1.000000</td>\n",
       "    </tr>\n",
       "  </tbody>\n",
       "</table>\n",
       "</div>"
      ],
      "text/plain": [
       "              BUKRS         BELNR        GJAHR      MONAT USNAM WAERS  BSCHL  \\\n",
       "count     50.000000  5.000000e+01    50.000000  50.000000    50    50   50.0   \n",
       "unique          NaN           NaN          NaN        NaN     4     2    NaN   \n",
       "top             NaN           NaN          NaN        NaN  MSEK   CAD    NaN   \n",
       "freq            NaN           NaN          NaN        NaN    21    40    NaN   \n",
       "mean    1340.000000  2.000003e+07  2019.640000   6.340000   NaN   NaN   25.0   \n",
       "std      688.387646  1.457738e+01     1.102132   3.230025   NaN   NaN    0.0   \n",
       "min     1000.000000  2.000000e+07  2018.000000   1.000000   NaN   NaN   25.0   \n",
       "25%     1000.000000  2.000001e+07  2019.000000   4.000000   NaN   NaN   25.0   \n",
       "50%     1000.000000  2.000003e+07  2020.000000   6.500000   NaN   NaN   25.0   \n",
       "75%     2000.000000  2.000004e+07  2021.000000   9.000000   NaN   NaN   25.0   \n",
       "max     5000.000000  2.000005e+07  2021.000000  12.000000   NaN   NaN   25.0   \n",
       "\n",
       "       KOART          DMBTR          HKONT         LIFNR  Fraudulent  \n",
       "count     50      50.000000      50.000000  5.000000e+01   50.000000  \n",
       "unique     1            NaN            NaN           NaN         NaN  \n",
       "top        K            NaN            NaN           NaN         NaN  \n",
       "freq      50            NaN            NaN           NaN         NaN  \n",
       "mean     NaN    6344.000000  126000.000000  1.122335e+07    0.800000  \n",
       "std      NaN   23904.189369   44308.749769  6.456258e+00    0.606092  \n",
       "min      NaN     100.000000  100000.000000  1.122334e+07   -1.000000  \n",
       "25%      NaN     200.000000  100000.000000  1.122334e+07    1.000000  \n",
       "50%      NaN     200.000000  100000.000000  1.122334e+07    1.000000  \n",
       "75%      NaN     800.000000  175000.000000  1.122335e+07    1.000000  \n",
       "max      NaN  100000.000000  200000.000000  1.122337e+07    1.000000  "
      ]
     },
     "execution_count": 17,
     "metadata": {},
     "output_type": "execute_result"
    }
   ],
   "source": [
    "# Summary statistics for all columns\n",
    "df.describe(include='all')"
   ]
  },
  {
   "cell_type": "code",
   "execution_count": 18,
   "metadata": {},
   "outputs": [
    {
     "data": {
      "text/plain": [
       "BUKRS          int64\n",
       "BELNR          int64\n",
       "GJAHR          int64\n",
       "MONAT          int64\n",
       "USNAM         object\n",
       "WAERS         object\n",
       "BSCHL          int64\n",
       "KOART         object\n",
       "DMBTR          int64\n",
       "HKONT          int64\n",
       "LIFNR          int64\n",
       "Fraudulent     int64\n",
       "dtype: object"
      ]
     },
     "execution_count": 18,
     "metadata": {},
     "output_type": "execute_result"
    }
   ],
   "source": [
    "# Display data types of all columns. All are integers except for user name, currency code and account type\n",
    "df.dtypes"
   ]
  },
  {
   "cell_type": "code",
   "execution_count": 27,
   "metadata": {},
   "outputs": [
    {
     "data": {
      "text/plain": [
       "array(['MSEK', 'KMES', 'PKIM', 'LUKE'], dtype=object)"
      ]
     },
     "execution_count": 27,
     "metadata": {},
     "output_type": "execute_result"
    }
   ],
   "source": [
    "# Show all the unique values for the user, currency and account\n",
    "df['USNAM'].unique()"
   ]
  },
  {
   "cell_type": "code",
   "execution_count": 28,
   "metadata": {},
   "outputs": [
    {
     "data": {
      "text/plain": [
       "array(['CAD', 'USD'], dtype=object)"
      ]
     },
     "execution_count": 28,
     "metadata": {},
     "output_type": "execute_result"
    }
   ],
   "source": [
    "df['WAERS'].unique()"
   ]
  },
  {
   "cell_type": "code",
   "execution_count": 29,
   "metadata": {},
   "outputs": [
    {
     "data": {
      "text/plain": [
       "array(['K'], dtype=object)"
      ]
     },
     "execution_count": 29,
     "metadata": {},
     "output_type": "execute_result"
    }
   ],
   "source": [
    "df['KOART'].unique()"
   ]
  },
  {
   "cell_type": "code",
   "execution_count": 84,
   "metadata": {},
   "outputs": [
    {
     "data": {
      "text/plain": [
       "Text(0, 0.5, 'Amount ($)')"
      ]
     },
     "execution_count": 84,
     "metadata": {},
     "output_type": "execute_result"
    },
    {
     "data": {
      "image/png": "[encoded data removed]",
      "text/plain": [
       "<Figure size 432x288 with 1 Axes>"
      ]
     },
     "metadata": {
      "needs_background": "light"
     },
     "output_type": "display_data"
    }
   ],
   "source": [
    "# Plot the Amount to see how the distribution looks like.\n",
    "df_amounts = df[['DMBTR']]\n",
    "df_amounts = pd.DataFrame(df_amounts)\n",
    "\n",
    "x_ax = range(50)\n",
    "sns.distplot(df_amounts['DMBTR'], bins=10)\n",
    "plt.xticks(rotation = 90)\n",
    "plt.xlabel('Index')\n",
    "plt.ylabel('Amount ($)')"
   ]
  },
  {
   "cell_type": "markdown",
   "metadata": {},
   "source": [
    "<h2>Step 3: Apply Inter Quartile Method</h2>"
   ]
  },
  {
   "cell_type": "code",
   "execution_count": 85,
   "metadata": {},
   "outputs": [],
   "source": [
    "# Get the first and third quartile to calculate the inter quartile range. Then check if the amount falls 1.5 times below Q1 or above Q3. Mark these data points as outliers.\n",
    "Q1 = df_amounts.quantile(0.25)\n",
    "Q3 = df_amounts.quantile(0.75)\n",
    "\n",
    "IQR = Q3 - Q1\n",
    "\n",
    "df_final = df_amounts[(df_amounts[['DMBTR']]<(Q1-1.5*IQR)) | (df_amounts[['DMBTR']]>(Q3+1.5*IQR))]\n",
    "df_final = df_final.rename(columns={'DMBTR': 'Flagged'})"
   ]
  },
  {
   "cell_type": "code",
   "execution_count": 86,
   "metadata": {},
   "outputs": [
    {
     "data": {
      "text/html": [
       "<div>\n",
       "<style scoped>\n",
       "    .dataframe tbody tr th:only-of-type {\n",
       "        vertical-align: middle;\n",
       "    }\n",
       "\n",
       "    .dataframe tbody tr th {\n",
       "        vertical-align: top;\n",
       "    }\n",
       "\n",
       "    .dataframe thead th {\n",
       "        text-align: right;\n",
       "    }\n",
       "</style>\n",
       "<table border=\"1\" class=\"dataframe\">\n",
       "  <thead>\n",
       "    <tr style=\"text-align: right;\">\n",
       "      <th></th>\n",
       "      <th>Flagged</th>\n",
       "    </tr>\n",
       "  </thead>\n",
       "  <tbody>\n",
       "    <tr>\n",
       "      <th>0</th>\n",
       "      <td>NaN</td>\n",
       "    </tr>\n",
       "    <tr>\n",
       "      <th>1</th>\n",
       "      <td>NaN</td>\n",
       "    </tr>\n",
       "    <tr>\n",
       "      <th>2</th>\n",
       "      <td>NaN</td>\n",
       "    </tr>\n",
       "    <tr>\n",
       "      <th>3</th>\n",
       "      <td>NaN</td>\n",
       "    </tr>\n",
       "    <tr>\n",
       "      <th>4</th>\n",
       "      <td>NaN</td>\n",
       "    </tr>\n",
       "  </tbody>\n",
       "</table>\n",
       "</div>"
      ],
      "text/plain": [
       "   Flagged\n",
       "0      NaN\n",
       "1      NaN\n",
       "2      NaN\n",
       "3      NaN\n",
       "4      NaN"
      ]
     },
     "execution_count": 86,
     "metadata": {},
     "output_type": "execute_result"
    }
   ],
   "source": [
    "df_final.head()"
   ]
  },
  {
   "cell_type": "code",
   "execution_count": 87,
   "metadata": {},
   "outputs": [],
   "source": [
    "# To follow similiar logic to how Fraudulent was defined (check Chapter 21 for definition). 1 represents a normal data point (inliers) whereas -1 is the one we identify as outliers\n",
    "df_final[df_final.notna()] = -1\n",
    "df_final[df_final.isna()] = 1"
   ]
  },
  {
   "cell_type": "code",
   "execution_count": 88,
   "metadata": {},
   "outputs": [],
   "source": [
    "df_final['Flagged'] = df_final['Flagged'].astype(int)"
   ]
  },
  {
   "cell_type": "code",
   "execution_count": 89,
   "metadata": {},
   "outputs": [
    {
     "data": {
      "text/html": [
       "<div>\n",
       "<style scoped>\n",
       "    .dataframe tbody tr th:only-of-type {\n",
       "        vertical-align: middle;\n",
       "    }\n",
       "\n",
       "    .dataframe tbody tr th {\n",
       "        vertical-align: top;\n",
       "    }\n",
       "\n",
       "    .dataframe thead th {\n",
       "        text-align: right;\n",
       "    }\n",
       "</style>\n",
       "<table border=\"1\" class=\"dataframe\">\n",
       "  <thead>\n",
       "    <tr style=\"text-align: right;\">\n",
       "      <th></th>\n",
       "      <th>Flagged</th>\n",
       "    </tr>\n",
       "  </thead>\n",
       "  <tbody>\n",
       "    <tr>\n",
       "      <th>0</th>\n",
       "      <td>1</td>\n",
       "    </tr>\n",
       "    <tr>\n",
       "      <th>1</th>\n",
       "      <td>1</td>\n",
       "    </tr>\n",
       "    <tr>\n",
       "      <th>2</th>\n",
       "      <td>1</td>\n",
       "    </tr>\n",
       "    <tr>\n",
       "      <th>3</th>\n",
       "      <td>1</td>\n",
       "    </tr>\n",
       "    <tr>\n",
       "      <th>4</th>\n",
       "      <td>1</td>\n",
       "    </tr>\n",
       "  </tbody>\n",
       "</table>\n",
       "</div>"
      ],
      "text/plain": [
       "   Flagged\n",
       "0        1\n",
       "1        1\n",
       "2        1\n",
       "3        1\n",
       "4        1"
      ]
     },
     "execution_count": 89,
     "metadata": {},
     "output_type": "execute_result"
    }
   ],
   "source": [
    "df_final.head()"
   ]
  },
  {
   "cell_type": "code",
   "execution_count": 90,
   "metadata": {},
   "outputs": [
    {
     "name": "stdout",
     "output_type": "stream",
     "text": [
      "              precision    recall  f1-score   support\n",
      "\n",
      "       Fraud       0.67      0.40      0.50         5\n",
      "   Not Fraud       0.94      0.98      0.96        45\n",
      "\n",
      "    accuracy                           0.92        50\n",
      "   macro avg       0.80      0.69      0.73        50\n",
      "weighted avg       0.91      0.92      0.91        50\n",
      "\n"
     ]
    }
   ],
   "source": [
    "# Print the evaluation metrics. Pay particular attention to f1-score for Fraud and Not Fraud labels.\n",
    "ytrue = df['Fraudulent']\n",
    "yhat = df_final['Flagged']\n",
    "print(classification_report(ytrue, yhat, target_names=['Fraud', 'Not Fraud']))"
   ]
  },
  {
   "cell_type": "code",
   "execution_count": 46,
   "metadata": {},
   "outputs": [
    {
     "name": "stdout",
     "output_type": "stream",
     "text": [
      "F1 Score for IQR: 0.500\n"
     ]
    }
   ],
   "source": [
    "# Show the F1 score for the IQR method\n",
    "method1_score = f1_score(ytrue, yhat, pos_label=-1)\n",
    "method1_score\n",
    "print('F1 Score for IQR: %.3f' % method1_score)"
   ]
  },
  {
   "cell_type": "markdown",
   "metadata": {},
   "source": [
    "<h2>Step 4: Perform Supervised Learning - Support Vector Machines</h2>"
   ]
  },
  {
   "cell_type": "code",
   "execution_count": 72,
   "metadata": {},
   "outputs": [
    {
     "name": "stdout",
     "output_type": "stream",
     "text": [
      "              precision    recall  f1-score   support\n",
      "\n",
      "       Fraud       0.67      0.67      0.67         3\n",
      "   Not Fraud       0.95      0.95      0.95        22\n",
      "\n",
      "    accuracy                           0.92        25\n",
      "   macro avg       0.81      0.81      0.81        25\n",
      "weighted avg       0.92      0.92      0.92        25\n",
      "\n"
     ]
    }
   ],
   "source": [
    "# Define the features to use (X) for the ML model and the target to predict (y)\n",
    "X = df[['LIFNR']] \n",
    "# X = df[['DMBTR','BUKRS','LIFNR']] # Additional features can be added this way\n",
    "y = df['Fraudulent']\n",
    "\n",
    "# Split into train/test sets\n",
    "trainX, testX, trainy, ytrue = train_test_split(X, y, test_size=0.5, random_state=2, stratify=y)\n",
    "\n",
    "# Create a one class SVM Model\n",
    "model = OneClassSVM(gamma='scale', nu=0.01)\n",
    "\n",
    "# Fit on majority class\n",
    "trainX = trainX[trainy==1]\n",
    "model.fit(trainX)\n",
    "\n",
    "# Detect outliers in the test set\n",
    "yhat = model.predict(testX)\n",
    "\n",
    "# Calculate the evaluation metrics\n",
    "print(classification_report(ytrue, yhat, target_names=['Fraud', 'Not Fraud']))"
   ]
  },
  {
   "cell_type": "code",
   "execution_count": 73,
   "metadata": {},
   "outputs": [
    {
     "name": "stdout",
     "output_type": "stream",
     "text": [
      "F1 Score for SVM: 0.667\n"
     ]
    }
   ],
   "source": [
    "# Display the F1 score for the SVM method\n",
    "method2_score = f1_score(ytrue, yhat, pos_label=-1)\n",
    "print('F1 Score for SVM: %.3f' % method2_score)"
   ]
  },
  {
   "cell_type": "markdown",
   "metadata": {},
   "source": [
    "<h2>Step 5: Perform Unsupervised Learning - K-Means Clustering</h2>"
   ]
  },
  {
   "cell_type": "code",
   "execution_count": 74,
   "metadata": {},
   "outputs": [
    {
     "data": {
      "image/png": "[encoded data removed]",
      "text/plain": [
       "<Figure size 432x288 with 1 Axes>"
      ]
     },
     "metadata": {
      "needs_background": "light"
     },
     "output_type": "display_data"
    }
   ],
   "source": [
    "# Use the amount column and scale it for analysis\n",
    "X = df[['DMBTR']]\n",
    "# X = df[['DMBTR','BUKRS','LIFNR']] # Additional features can be added this way\n",
    "X = pd.DataFrame(X)\n",
    "X = scale(X)\n",
    "\n",
    "# Train the K-Means model by fitting it with the data. This is a one cluster model because it is used to detect anomalies for the amount feature.\n",
    "kmeans = KMeans(n_clusters = 1).fit(X)\n",
    "\n",
    "# Get the center of the cluster\n",
    "center = kmeans.cluster_centers_\n",
    "\n",
    "# Calculate the euclidean distance of a given data point from the center of the cluster\n",
    "distance = sqrt((X - center)**2)\n",
    "\n",
    "# Sort the distance along with the index of the data points\n",
    "order_index = argsort(distance, axis = 0)\n",
    "\n",
    "# Get the three farthest points\n",
    "indexes = order_index[-3:]\n",
    "values = X[indexes]\n",
    "\n",
    "# Plot the result. Here the red points indicate the suspected anomalies based on their distance from the other points.\n",
    "x_ax = range(X.shape[0])\n",
    "plt.plot(x_ax, X)\n",
    "plt.scatter(indexes, values, color='r')\n",
    "plt.show()"
   ]
  },
  {
   "cell_type": "code",
   "execution_count": 75,
   "metadata": {},
   "outputs": [
    {
     "data": {
      "text/html": [
       "<div>\n",
       "<style scoped>\n",
       "    .dataframe tbody tr th:only-of-type {\n",
       "        vertical-align: middle;\n",
       "    }\n",
       "\n",
       "    .dataframe tbody tr th {\n",
       "        vertical-align: top;\n",
       "    }\n",
       "\n",
       "    .dataframe thead th {\n",
       "        text-align: right;\n",
       "    }\n",
       "</style>\n",
       "<table border=\"1\" class=\"dataframe\">\n",
       "  <thead>\n",
       "    <tr style=\"text-align: right;\">\n",
       "      <th></th>\n",
       "      <th>Fraudulent</th>\n",
       "      <th>ytest</th>\n",
       "    </tr>\n",
       "  </thead>\n",
       "  <tbody>\n",
       "    <tr>\n",
       "      <th>0</th>\n",
       "      <td>-1</td>\n",
       "      <td>1</td>\n",
       "    </tr>\n",
       "    <tr>\n",
       "      <th>1</th>\n",
       "      <td>1</td>\n",
       "      <td>1</td>\n",
       "    </tr>\n",
       "    <tr>\n",
       "      <th>2</th>\n",
       "      <td>1</td>\n",
       "      <td>1</td>\n",
       "    </tr>\n",
       "    <tr>\n",
       "      <th>3</th>\n",
       "      <td>1</td>\n",
       "      <td>1</td>\n",
       "    </tr>\n",
       "    <tr>\n",
       "      <th>4</th>\n",
       "      <td>1</td>\n",
       "      <td>1</td>\n",
       "    </tr>\n",
       "  </tbody>\n",
       "</table>\n",
       "</div>"
      ],
      "text/plain": [
       "   Fraudulent  ytest\n",
       "0          -1      1\n",
       "1           1      1\n",
       "2           1      1\n",
       "3           1      1\n",
       "4           1      1"
      ]
     },
     "execution_count": 75,
     "metadata": {},
     "output_type": "execute_result"
    }
   ],
   "source": [
    "# Create a new data frame with the suspected fraud transactions and the actual fraud transactions\n",
    "df_final = df[['Fraudulent']]\n",
    "df_final = pd.DataFrame(df_final)\n",
    "df_final['ytest'] = 1\n",
    "df_final.head()"
   ]
  },
  {
   "cell_type": "code",
   "execution_count": 76,
   "metadata": {},
   "outputs": [],
   "source": [
    "# Set the detected outliers as -1\n",
    "for i in range(len(indexes)):\n",
    "    df_final['ytest'][indexes[i]] = -1"
   ]
  },
  {
   "cell_type": "code",
   "execution_count": 77,
   "metadata": {},
   "outputs": [
    {
     "name": "stdout",
     "output_type": "stream",
     "text": [
      "              precision    recall  f1-score   support\n",
      "\n",
      "       Fraud       0.40      0.67      0.50         3\n",
      "   Not Fraud       0.98      0.94      0.96        47\n",
      "\n",
      "    accuracy                           0.92        50\n",
      "   macro avg       0.69      0.80      0.73        50\n",
      "weighted avg       0.94      0.92      0.93        50\n",
      "\n"
     ]
    }
   ],
   "source": [
    "# Print the evaluation metrics\n",
    "ytrue = df_final['ytest']\n",
    "yhat = df_final['Fraudulent']\n",
    "print(classification_report(ytrue, yhat, target_names=['Fraud', 'Not Fraud']))"
   ]
  },
  {
   "cell_type": "code",
   "execution_count": 80,
   "metadata": {},
   "outputs": [
    {
     "name": "stdout",
     "output_type": "stream",
     "text": [
      "F1 Score for K-Means: 0.500\n"
     ]
    }
   ],
   "source": [
    "# Calculate F1-score for K-Means\n",
    "method3_score = f1_score(ytrue, yhat, pos_label=-1)\n",
    "print('F1 Score for K-Means: %.3f' % method3_score)"
   ]
  },
  {
   "cell_type": "code",
   "execution_count": 81,
   "metadata": {},
   "outputs": [
    {
     "data": {
      "text/html": [
       "<div>\n",
       "<style scoped>\n",
       "    .dataframe tbody tr th:only-of-type {\n",
       "        vertical-align: middle;\n",
       "    }\n",
       "\n",
       "    .dataframe tbody tr th {\n",
       "        vertical-align: top;\n",
       "    }\n",
       "\n",
       "    .dataframe thead th {\n",
       "        text-align: right;\n",
       "    }\n",
       "</style>\n",
       "<table border=\"1\" class=\"dataframe\">\n",
       "  <thead>\n",
       "    <tr style=\"text-align: right;\">\n",
       "      <th></th>\n",
       "      <th>Method</th>\n",
       "      <th>F1-Score</th>\n",
       "    </tr>\n",
       "  </thead>\n",
       "  <tbody>\n",
       "    <tr>\n",
       "      <th>0</th>\n",
       "      <td>Inter-Quartile Range:</td>\n",
       "      <td>0.50</td>\n",
       "    </tr>\n",
       "    <tr>\n",
       "      <th>1</th>\n",
       "      <td>Supervised Learning - One-class SVM:</td>\n",
       "      <td>0.67</td>\n",
       "    </tr>\n",
       "    <tr>\n",
       "      <th>2</th>\n",
       "      <td>Unsupervised Learning - K-Means Outlier Detection</td>\n",
       "      <td>0.50</td>\n",
       "    </tr>\n",
       "  </tbody>\n",
       "</table>\n",
       "</div>"
      ],
      "text/plain": [
       "                                              Method  F1-Score\n",
       "0                             Inter-Quartile Range:       0.50\n",
       "1              Supervised Learning - One-class SVM:       0.67\n",
       "2  Unsupervised Learning - K-Means Outlier Detection      0.50"
      ]
     },
     "execution_count": 81,
     "metadata": {},
     "output_type": "execute_result"
    }
   ],
   "source": [
    "# Show the final results\n",
    "final_data = [['Inter-Quartile Range: ', round(method1_score,2)], ['Supervised Learning - One-class SVM: ', round(method2_score,2)], ['Unsupervised Learning - K-Means Outlier Detection', round(method3_score,2)]]\n",
    "final_results = pd.DataFrame(final_data, columns = ['Method', 'F1-Score'])\n",
    "final_results"
   ]
  },
  {
   "cell_type": "raw",
   "metadata": {},
   "source": []
  }
 ],
 "metadata": {
  "kernelspec": {
   "display_name": "Python 3",
   "language": "python",
   "name": "python3"
  },
  "language_info": {
   "codemirror_mode": {
    "name": "ipython",
    "version": 3
   },
   "file_extension": ".py",
   "mimetype": "text/x-python",
   "name": "python",
   "nbconvert_exporter": "python",
   "pygments_lexer": "ipython3",
   "version": "3.8.3"
  }
 },
 "nbformat": 4,
 "nbformat_minor": 4
}
