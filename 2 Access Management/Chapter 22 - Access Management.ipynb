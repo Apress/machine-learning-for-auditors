{
 "cells": [
  {
   "cell_type": "code",
   "execution_count": 58,
   "metadata": {},
   "outputs": [],
   "source": [
    "# Import Required Libraries\n",
    "import pandas as pd\n",
    "import seaborn as sns\n",
    "import matplotlib.pyplot as plt\n",
    "import numpy as np\n",
    "from datetime import datetime\n",
    "from numpy import sqrt, array, random, argsort"
   ]
  },
  {
   "cell_type": "markdown",
   "metadata": {},
   "source": [
    "<h2>Step 1: Data Preparation</h2>"
   ]
  },
  {
   "cell_type": "code",
   "execution_count": 59,
   "metadata": {},
   "outputs": [],
   "source": [
    "# Read and load the data into a Pandas data frame\n",
    "df = pd.read_csv('AGR_USERS.csv')"
   ]
  },
  {
   "cell_type": "code",
   "execution_count": 60,
   "metadata": {},
   "outputs": [
    {
     "data": {
      "text/html": [
       "<div>\n",
       "<style scoped>\n",
       "    .dataframe tbody tr th:only-of-type {\n",
       "        vertical-align: middle;\n",
       "    }\n",
       "\n",
       "    .dataframe tbody tr th {\n",
       "        vertical-align: top;\n",
       "    }\n",
       "\n",
       "    .dataframe thead th {\n",
       "        text-align: right;\n",
       "    }\n",
       "</style>\n",
       "<table border=\"1\" class=\"dataframe\">\n",
       "  <thead>\n",
       "    <tr style=\"text-align: right;\">\n",
       "      <th></th>\n",
       "      <th>AGR_NAME</th>\n",
       "      <th>UNAME</th>\n",
       "      <th>FROM_DAT</th>\n",
       "      <th>TO_DAT</th>\n",
       "    </tr>\n",
       "  </thead>\n",
       "  <tbody>\n",
       "    <tr>\n",
       "      <th>0</th>\n",
       "      <td>GENERAL</td>\n",
       "      <td>MSEK</td>\n",
       "      <td>2017-01-15</td>\n",
       "      <td>9999-12-31</td>\n",
       "    </tr>\n",
       "    <tr>\n",
       "      <th>1</th>\n",
       "      <td>FINANCE</td>\n",
       "      <td>MSEK</td>\n",
       "      <td>2017-01-15</td>\n",
       "      <td>9999-12-31</td>\n",
       "    </tr>\n",
       "    <tr>\n",
       "      <th>2</th>\n",
       "      <td>IT SUPPORT</td>\n",
       "      <td>MSEK</td>\n",
       "      <td>2017-01-15</td>\n",
       "      <td>9999-12-31</td>\n",
       "    </tr>\n",
       "    <tr>\n",
       "      <th>3</th>\n",
       "      <td>HR SUPPORT</td>\n",
       "      <td>MSEK</td>\n",
       "      <td>2017-01-15</td>\n",
       "      <td>9999-12-31</td>\n",
       "    </tr>\n",
       "    <tr>\n",
       "      <th>4</th>\n",
       "      <td>AUDIT</td>\n",
       "      <td>MSEK</td>\n",
       "      <td>2017-01-15</td>\n",
       "      <td>9999-12-31</td>\n",
       "    </tr>\n",
       "  </tbody>\n",
       "</table>\n",
       "</div>"
      ],
      "text/plain": [
       "     AGR_NAME UNAME    FROM_DAT      TO_DAT\n",
       "0     GENERAL  MSEK  2017-01-15  9999-12-31\n",
       "1     FINANCE  MSEK  2017-01-15  9999-12-31\n",
       "2  IT SUPPORT  MSEK  2017-01-15  9999-12-31\n",
       "3  HR SUPPORT  MSEK  2017-01-15  9999-12-31\n",
       "4       AUDIT  MSEK  2017-01-15  9999-12-31"
      ]
     },
     "execution_count": 60,
     "metadata": {},
     "output_type": "execute_result"
    }
   ],
   "source": [
    "# Check the top five lines\n",
    "df.head()"
   ]
  },
  {
   "cell_type": "markdown",
   "metadata": {},
   "source": [
    "<h2>Step 2: Exploratory Data Analysis</h2>"
   ]
  },
  {
   "cell_type": "code",
   "execution_count": 61,
   "metadata": {},
   "outputs": [
    {
     "data": {
      "text/plain": [
       "(25, 4)"
      ]
     },
     "execution_count": 61,
     "metadata": {},
     "output_type": "execute_result"
    }
   ],
   "source": [
    "# Get the size of the data. There are 25 rows and four columns in the provided sample dataset.\n",
    "df.shape"
   ]
  },
  {
   "cell_type": "code",
   "execution_count": 62,
   "metadata": {},
   "outputs": [
    {
     "data": {
      "text/html": [
       "<div>\n",
       "<style scoped>\n",
       "    .dataframe tbody tr th:only-of-type {\n",
       "        vertical-align: middle;\n",
       "    }\n",
       "\n",
       "    .dataframe tbody tr th {\n",
       "        vertical-align: top;\n",
       "    }\n",
       "\n",
       "    .dataframe thead th {\n",
       "        text-align: right;\n",
       "    }\n",
       "</style>\n",
       "<table border=\"1\" class=\"dataframe\">\n",
       "  <thead>\n",
       "    <tr style=\"text-align: right;\">\n",
       "      <th></th>\n",
       "      <th>AGR_NAME</th>\n",
       "      <th>UNAME</th>\n",
       "      <th>FROM_DAT</th>\n",
       "      <th>TO_DAT</th>\n",
       "    </tr>\n",
       "  </thead>\n",
       "  <tbody>\n",
       "    <tr>\n",
       "      <th>count</th>\n",
       "      <td>25</td>\n",
       "      <td>25</td>\n",
       "      <td>25</td>\n",
       "      <td>25</td>\n",
       "    </tr>\n",
       "    <tr>\n",
       "      <th>unique</th>\n",
       "      <td>7</td>\n",
       "      <td>5</td>\n",
       "      <td>7</td>\n",
       "      <td>1</td>\n",
       "    </tr>\n",
       "    <tr>\n",
       "      <th>top</th>\n",
       "      <td>GENERAL</td>\n",
       "      <td>NJIN</td>\n",
       "      <td>2017-01-15</td>\n",
       "      <td>9999-12-31</td>\n",
       "    </tr>\n",
       "    <tr>\n",
       "      <th>freq</th>\n",
       "      <td>5</td>\n",
       "      <td>7</td>\n",
       "      <td>5</td>\n",
       "      <td>25</td>\n",
       "    </tr>\n",
       "  </tbody>\n",
       "</table>\n",
       "</div>"
      ],
      "text/plain": [
       "       AGR_NAME UNAME    FROM_DAT      TO_DAT\n",
       "count        25    25          25          25\n",
       "unique        7     5           7           1\n",
       "top     GENERAL  NJIN  2017-01-15  9999-12-31\n",
       "freq          5     7           5          25"
      ]
     },
     "execution_count": 62,
     "metadata": {},
     "output_type": "execute_result"
    }
   ],
   "source": [
    "# Get summary statistics for all the data.\n",
    "df.describe(include='all')"
   ]
  },
  {
   "cell_type": "code",
   "execution_count": 63,
   "metadata": {},
   "outputs": [
    {
     "data": {
      "text/plain": [
       "AGR_NAME    object\n",
       "UNAME       object\n",
       "FROM_DAT    object\n",
       "TO_DAT      object\n",
       "dtype: object"
      ]
     },
     "execution_count": 63,
     "metadata": {},
     "output_type": "execute_result"
    }
   ],
   "source": [
    "# Display the types of the columns.\n",
    "df.dtypes"
   ]
  },
  {
   "cell_type": "code",
   "execution_count": 64,
   "metadata": {},
   "outputs": [
    {
     "data": {
      "text/plain": [
       "array(['GENERAL', 'FINANCE', 'IT SUPPORT', 'HR SUPPORT', 'AUDIT', 'SCM',\n",
       "       'HR ADMIN'], dtype=object)"
      ]
     },
     "execution_count": 64,
     "metadata": {},
     "output_type": "execute_result"
    }
   ],
   "source": [
    "# Get unique values for the defined roles.\n",
    "df['AGR_NAME'].unique()"
   ]
  },
  {
   "cell_type": "code",
   "execution_count": 65,
   "metadata": {},
   "outputs": [
    {
     "data": {
      "text/plain": [
       "array(['MSEK', 'BWIL', 'KPOP', 'PKLE', 'NJIN'], dtype=object)"
      ]
     },
     "execution_count": 65,
     "metadata": {},
     "output_type": "execute_result"
    }
   ],
   "source": [
    "# Show the unique users in the system.\n",
    "df['UNAME'].unique()"
   ]
  },
  {
   "cell_type": "code",
   "execution_count": 66,
   "metadata": {},
   "outputs": [
    {
     "data": {
      "text/plain": [
       "Text(0, 0.5, 'SAP Role')"
      ]
     },
     "execution_count": 66,
     "metadata": {},
     "output_type": "execute_result"
    },
    {
     "data": {
      "image/png": "[encoded data removed]",
      "text/plain": [
       "<Figure size 842.4x595.44 with 1 Axes>"
      ]
     },
     "metadata": {},
     "output_type": "display_data"
    }
   ],
   "source": [
    "# Plot the SAP role vs. user. We will refine this figure below by formatting and adding more information to the plot.\n",
    "sns.scatterplot(y = 'AGR_NAME', x = 'UNAME', data = df)\n",
    "plt.xlabel('User')\n",
    "plt.ylabel('SAP Role')"
   ]
  },
  {
   "cell_type": "code",
   "execution_count": 67,
   "metadata": {},
   "outputs": [],
   "source": [
    "# Create a function to convert a string date to datetime format. The function also gets the no. of days between the day the analysis is run and the date the role was assigned in the ERP (SAP)\n",
    "def date_convert(from_date_to_convert):\n",
    "    delta = datetime.now() - datetime.strptime(from_date_to_convert, '%Y-%m-%d')\n",
    "    return int(delta.total_seconds())//(24*3600)"
   ]
  },
  {
   "cell_type": "code",
   "execution_count": 68,
   "metadata": {},
   "outputs": [],
   "source": [
    "# Create a column store the processed date differences with the applied transformations above\n",
    "df['Access Days'] = df['FROM_DAT'].apply(date_convert)"
   ]
  },
  {
   "cell_type": "code",
   "execution_count": 69,
   "metadata": {},
   "outputs": [
    {
     "data": {
      "text/html": [
       "<div>\n",
       "<style scoped>\n",
       "    .dataframe tbody tr th:only-of-type {\n",
       "        vertical-align: middle;\n",
       "    }\n",
       "\n",
       "    .dataframe tbody tr th {\n",
       "        vertical-align: top;\n",
       "    }\n",
       "\n",
       "    .dataframe thead th {\n",
       "        text-align: right;\n",
       "    }\n",
       "</style>\n",
       "<table border=\"1\" class=\"dataframe\">\n",
       "  <thead>\n",
       "    <tr style=\"text-align: right;\">\n",
       "      <th></th>\n",
       "      <th>AGR_NAME</th>\n",
       "      <th>UNAME</th>\n",
       "      <th>FROM_DAT</th>\n",
       "      <th>TO_DAT</th>\n",
       "      <th>Access Days</th>\n",
       "    </tr>\n",
       "  </thead>\n",
       "  <tbody>\n",
       "    <tr>\n",
       "      <th>0</th>\n",
       "      <td>GENERAL</td>\n",
       "      <td>MSEK</td>\n",
       "      <td>2017-01-15</td>\n",
       "      <td>9999-12-31</td>\n",
       "      <td>1764</td>\n",
       "    </tr>\n",
       "    <tr>\n",
       "      <th>1</th>\n",
       "      <td>FINANCE</td>\n",
       "      <td>MSEK</td>\n",
       "      <td>2017-01-15</td>\n",
       "      <td>9999-12-31</td>\n",
       "      <td>1764</td>\n",
       "    </tr>\n",
       "    <tr>\n",
       "      <th>2</th>\n",
       "      <td>IT SUPPORT</td>\n",
       "      <td>MSEK</td>\n",
       "      <td>2017-01-15</td>\n",
       "      <td>9999-12-31</td>\n",
       "      <td>1764</td>\n",
       "    </tr>\n",
       "    <tr>\n",
       "      <th>3</th>\n",
       "      <td>HR SUPPORT</td>\n",
       "      <td>MSEK</td>\n",
       "      <td>2017-01-15</td>\n",
       "      <td>9999-12-31</td>\n",
       "      <td>1764</td>\n",
       "    </tr>\n",
       "    <tr>\n",
       "      <th>4</th>\n",
       "      <td>AUDIT</td>\n",
       "      <td>MSEK</td>\n",
       "      <td>2017-01-15</td>\n",
       "      <td>9999-12-31</td>\n",
       "      <td>1764</td>\n",
       "    </tr>\n",
       "  </tbody>\n",
       "</table>\n",
       "</div>"
      ],
      "text/plain": [
       "     AGR_NAME UNAME    FROM_DAT      TO_DAT  Access Days\n",
       "0     GENERAL  MSEK  2017-01-15  9999-12-31         1764\n",
       "1     FINANCE  MSEK  2017-01-15  9999-12-31         1764\n",
       "2  IT SUPPORT  MSEK  2017-01-15  9999-12-31         1764\n",
       "3  HR SUPPORT  MSEK  2017-01-15  9999-12-31         1764\n",
       "4       AUDIT  MSEK  2017-01-15  9999-12-31         1764"
      ]
     },
     "execution_count": 69,
     "metadata": {},
     "output_type": "execute_result"
    }
   ],
   "source": [
    "# Check if it has run the function as expected\n",
    "df.head()"
   ]
  },
  {
   "cell_type": "markdown",
   "metadata": {},
   "source": [
    "<h2>Step 3: Scatter Plot of ERP Access</h2>"
   ]
  },
  {
   "cell_type": "code",
   "execution_count": 70,
   "metadata": {},
   "outputs": [
    {
     "data": {
      "text/plain": [
       "Text(0, 0.5, 'SAP Role')"
      ]
     },
     "execution_count": 70,
     "metadata": {},
     "output_type": "execute_result"
    },
    {
     "data": {
      "image/png": "[encoded data removed]",
      "text/plain": [
       "<Figure size 842.4x595.44 with 1 Axes>"
      ]
     },
     "metadata": {},
     "output_type": "display_data"
    }
   ],
   "source": [
    "# Set environment options such as theme and size of the figure. We will need a bigger size than the standard size. You can adjust this if you have more roles or users\n",
    "sns.set_context('talk')\n",
    "sns.set(rc={'figure.figsize':(11.7,8.27)})\n",
    "\n",
    "# Create a scatter plot as above. The following options were set here:\n",
    "# Set transparency to 50% (alpha).\n",
    "# Set the size of the bubbles to be the Access days we calculated above. Also set the scale for the sizes.\n",
    "# Show the legend box.\n",
    "# Color the bubbles with distinct colors (palette) based on the role.\n",
    "g = sns.scatterplot(y = 'AGR_NAME', x = 'UNAME', data = df, alpha = 0.5, size='Access Days', sizes=(200, 2000), legend = 'full', hue = 'AGR_NAME', palette = 'deep')\n",
    "\n",
    "# The next two lines of code moves the legend to the right so the bubbles are better visible.\n",
    "h,l = g.get_legend_handles_labels()\n",
    "plt.legend(h[0:8], l[0:8], bbox_to_anchor=(1.18, 1), loc='upper right', borderaxespad=0)\n",
    "\n",
    "# Set the X-axis and Y-axis titles.\n",
    "plt.xlabel('User')\n",
    "plt.ylabel('SAP Role')"
   ]
  },
  {
   "cell_type": "code",
   "execution_count": null,
   "metadata": {},
   "outputs": [],
   "source": []
  }
 ],
 "metadata": {
  "kernelspec": {
   "display_name": "Python 3",
   "language": "python",
   "name": "python3"
  },
  "language_info": {
   "codemirror_mode": {
    "name": "ipython",
    "version": 3
   },
   "file_extension": ".py",
   "mimetype": "text/x-python",
   "name": "python",
   "nbconvert_exporter": "python",
   "pygments_lexer": "ipython3",
   "version": "3.8.3"
  }
 },
 "nbformat": 4,
 "nbformat_minor": 4
}
